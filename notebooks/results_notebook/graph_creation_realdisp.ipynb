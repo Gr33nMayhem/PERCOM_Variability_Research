{
 "cells": [
  {
   "cell_type": "code",
   "execution_count": 1,
   "outputs": [],
   "source": [
    "import matplotlib.pyplot as plt\n",
    "import numpy as np\n",
    "import pandas as pd\n",
    "import os\n",
    "from sklearn.metrics import confusion_matrix\n",
    "import seaborn as sns\n",
    "from statsmodels.stats.anova import AnovaRM\n",
    "from sklearn.metrics import precision_recall_fscore_support"
   ],
   "metadata": {
    "collapsed": false,
    "ExecuteTime": {
     "start_time": "2024-06-26T09:46:37.123811Z",
     "end_time": "2024-06-26T09:46:39.530228Z"
    }
   }
  },
  {
   "cell_type": "code",
   "execution_count": 2,
   "outputs": [],
   "source": [
    "root_path = os.path.abspath(os.path.join('..', '..'))\n",
    "from dataloaders.dataloader_REALDISP_har import REALDISPUtils\n",
    "train_device_1 = 'LLA-ideal'  # Also the test device\n",
    "train_device_2 = 'LLA-self'\n",
    "classes = [0, 1, 2, 3, 4, 5, 6, 7, 8, 9, 10, 11, 12, 13, 14, 15, 16, 17, 18, 19, 20, 21, 22, 23, 24, 25,\n",
    "           26, 27, 28, 29, 30, 31, 32, 33]\n",
    "train_keys = [0, 1, 2, 3, 4, 5, 7, 8, 9, 10, 11, 12, 13, 14, 15, 16]"
   ],
   "metadata": {
    "collapsed": false,
    "ExecuteTime": {
     "start_time": "2024-06-26T09:46:39.532227Z",
     "end_time": "2024-06-26T09:47:08.169593Z"
    }
   }
  },
  {
   "cell_type": "code",
   "execution_count": 3,
   "outputs": [],
   "source": [
    "# Method for creating a multi bar graph with x axis and y axis values in the for of a list\n",
    "'''\n",
    "x: list of x axis labels\n",
    "y: list of y axis values\n",
    "x_label: x axis label\n",
    "y_label: y axis label\n",
    "title: title of the graph\n",
    "width: width of the graph\n",
    "height: height of the graph\n",
    "bar_width: width of each bar\n",
    "'''\n",
    "\n",
    "\n",
    "def generate_multi_bar_graph(data_frame, x_label, y_label, title, width, height, bar_width, std=False):\n",
    "    # set the width of the bars\n",
    "    bar_width = bar_width\n",
    "    sns.barplot(data_frame, x=x_label, y=y_label, palette='dark', errorbar='sd' if std else None)\n",
    "\n",
    "    plt.title(title)\n",
    "    plt.xlabel(x_label)\n",
    "    plt.ylabel(y_label)\n",
    "    plt.ylim(0, 1)\n",
    "    plt.legend(loc='upper right')\n",
    "    plt.xticks(rotation=45)\n",
    "    plt.gcf().set_size_inches(width, height)\n",
    "    plt.show()\n",
    "\n",
    "\n",
    "def get_f1_df(model_device, test_device):\n",
    "    data = {'Device': [], 'F1 Score': [], 'model_type': [], 'cv': []}\n",
    "    df = pd.DataFrame(data)\n",
    "\n",
    "    for i in train_keys:\n",
    "        new_row = {'Device': test_device,\n",
    "                   'F1 Score': get_result_for_model(root_path, model_device, test_device, 'attend', i)[3],\n",
    "                   'model_type': 'attend',\n",
    "                   'cv': i}\n",
    "        df = pd.concat([df, pd.DataFrame(new_row, index=[0])], ignore_index=True)\n",
    "        new_row = {'Device': test_device,\n",
    "                   'F1 Score': get_result_for_model(root_path, model_device, test_device, 'deepconv', i)[3],\n",
    "                   'model_type': 'deepconv',\n",
    "                   'cv': i}\n",
    "        df = pd.concat([df, pd.DataFrame(new_row, index=[0])], ignore_index=True)\n",
    "        new_row = {'Device': test_device,\n",
    "                   'F1 Score': get_result_for_model(root_path, model_device, test_device, 'tinyhar', i)[3],\n",
    "                   'model_type': 'tinyhar',\n",
    "                   'cv': i}\n",
    "        df = pd.concat([df, pd.DataFrame(new_row, index=[0])], ignore_index=True)\n",
    "    return df\n",
    "\n",
    "\n",
    "def generate_graph_with_std(root_path, model_device, test_devices):\n",
    "    df = get_f1_df(model_device, test_devices)\n",
    "\n",
    "    # generate the graph\n",
    "    g = sns.catplot(x='Device', y='F1 Score', hue='model_type', data=df, kind='bar', palette='dark', errorbar='sd',\n",
    "                    alpha=.6, height=6, aspect=2).set(title='F1 Score for Model trained with ' + model_device)\n",
    "    g.despine(left=True)\n",
    "    g.set_ylabels('F1 Score')\n",
    "    g.set_xlabels('Device')\n",
    "    g.set_xticklabels(rotation=45)\n",
    "\n",
    "    # save the graph in folder mean_graphs in the logs, create folder if not exists\n",
    "    if not os.path.exists(os.path.join(root_path, 'data', 'Run_logs', model_device, 'logs', 'mean_graphs')):\n",
    "        os.makedirs(os.path.join(root_path, 'data', 'Run_logs', model_device, 'logs', 'mean_graphs'))\n",
    "    # plt.savefig(os.path.join(root_path, 'data', 'Run_logs', model_device, 'logs', 'mean_graphs',\n",
    "    #                          'F1 Score for Model trained with ' + model_device + '.png'))\n",
    "\n",
    "\n"
   ],
   "metadata": {
    "collapsed": false,
    "ExecuteTime": {
     "start_time": "2024-06-26T09:47:08.179597Z",
     "end_time": "2024-06-26T09:47:08.186589Z"
    }
   }
  },
  {
   "cell_type": "code",
   "execution_count": 4,
   "outputs": [],
   "source": [
    "# Method used for getting the right path for a model based on the device name and the cv number\n",
    "'''\n",
    "root_path: the root path of the project\n",
    "device: the device name\n",
    "cv: the cross validation number\n",
    "\n",
    "Acceptable model types: attend, deepconv, tinyhar\n",
    "'''\n",
    "\n",
    "\n",
    "def get_model_path(root_path, variant, model_type, cv):\n",
    "    path = root_path\n",
    "    parent_path = os.path.join(path, 'data', 'Run_logs', variant, 'logs')\n",
    "    # parent paths has three folders for attend, deepCONV, TinyHAR. Get a list of all folders in the parent path\n",
    "    folders = os.listdir(parent_path)\n",
    "    for folder in folders:\n",
    "        if model_type in folder:\n",
    "            path = os.path.join(parent_path, folder)\n",
    "            break\n",
    "    # path now has the path to the model type folder\n",
    "    path = os.path.join(path, 'cv_' + str(cv))\n",
    "    return path\n",
    "\n",
    "\n",
    "def get_result_for_model(root_path, model_variant, test_variant, model_type, cv):\n",
    "    path = get_model_path(root_path, model_variant, model_type, cv)\n",
    "    filename = 'prediction_result_' + model_variant + '_' + test_variant + '.csv'\n",
    "    path = os.path.join(path, filename)\n",
    "    # open the csv file prediction_result_ and read the data\n",
    "    csv_file = path\n",
    "    # open with pandas\n",
    "    df = pd.read_csv(csv_file)\n",
    "    # if the file is empty, continue\n",
    "    if df.empty:\n",
    "        return None\n",
    "\n",
    "    # get the prediction result\n",
    "    preds = df['preds'].values\n",
    "    # get the ground truth\n",
    "    trues = df['trues'].values\n",
    "\n",
    "    num_classes = 34\n",
    "    classes = [0, 1, 2, 3, 4, 5, 6, 7, 8, 9, 10, 11, 12, 13, 14, 15, 16, 17, 18, 19, 20, 21, 22, 23, 24, 25,\n",
    "               26, 27, 28, 29, 30, 31, 32, 33]\n",
    "\n",
    "    # Calculate precision, recall, and f1 for each class. Use zero devision as 0\n",
    "    precision, recall, f1_weighted, _ = precision_recall_fscore_support(trues, preds, labels=classes,\n",
    "                                                                        average='weighted', zero_division=0)\n",
    "    # Calculate macro\n",
    "    _, _, f1_macro, _ = precision_recall_fscore_support(trues, preds, labels=classes, average='weighted', zero_division=0)\n",
    "\n",
    "    accuracy = np.sum(preds == trues) / len(preds)\n",
    "\n",
    "    return accuracy, precision, recall, f1_macro, f1_weighted  #, preds, trues\n",
    "\n",
    "\n",
    "def create_confusion_matrix(root_path, model_variant, test_variant, model_type, cv):\n",
    "    path = get_model_path(root_path, model_variant, model_type, cv)\n",
    "    filename = 'prediction_result_' + model_variant + '_' + test_variant + '.csv'\n",
    "    path = os.path.join(path, filename)\n",
    "    # open the csv file prediction_result_ and read the data\n",
    "    csv_file = path\n",
    "    # open with pandas\n",
    "    df = pd.read_csv(csv_file)\n",
    "    # if the file is empty, continue\n",
    "    if df.empty:\n",
    "        return None\n",
    "\n",
    "    # get the prediction result\n",
    "    preds = df['preds'].values\n",
    "    # get the ground truth\n",
    "    trues = df['trues'].values\n",
    "\n",
    "    # create confusion matrix\n",
    "    cm = confusion_matrix(trues, preds, labels=classes)\n",
    "    # plot the confusion matrix\n",
    "    plt.figure(figsize=(10, 10))\n",
    "    sns.heatmap(cm, annot=True, fmt='d', xticklabels=classes, yticklabels=classes)\n",
    "    plt.xlabel('Predicted')\n",
    "    plt.ylabel('True')\n",
    "    plt.title('Confusion Matrix')\n",
    "    plt.show()\n",
    "\n",
    "    # print the f1 score from the confusion matrix\n",
    "    precision, recall, f1_weighted, _ = precision_recall_fscore_support(trues, preds, labels=classes,\n",
    "                                                                        average='weighted', zero_division=0)\n",
    "    print('F1 Score:', f1_weighted)"
   ],
   "metadata": {
    "collapsed": false,
    "ExecuteTime": {
     "start_time": "2024-06-26T09:47:08.195592Z",
     "end_time": "2024-06-26T09:47:08.212599Z"
    }
   }
  },
  {
   "cell_type": "code",
   "execution_count": 28,
   "outputs": [
    {
     "name": "stdout",
     "output_type": "stream",
     "text": [
      " ----------------------- load all the data -------------------\n"
     ]
    }
   ],
   "source": [
    "from dataloaders.dataloader_REALDISP_har import REALDISPUtils\n",
    "util = REALDISPUtils()\n",
    "reading, label = util.load_all_the_data_realdisp(os.path.join(root_path, \"data\", \"realdisp\"), 'LLA-ideal', range(1,18))\n"
   ],
   "metadata": {
    "collapsed": false,
    "ExecuteTime": {
     "start_time": "2024-06-25T21:25:51.822183Z",
     "end_time": "2024-06-25T21:26:33.326679Z"
    }
   }
  },
  {
   "cell_type": "code",
   "execution_count": 29,
   "outputs": [
    {
     "name": "stdout",
     "output_type": "stream",
     "text": [
      "33\n",
      "33\n",
      "32\n",
      "29\n",
      "33\n",
      "21\n",
      "3\n",
      "33\n",
      "33\n",
      "33\n",
      "33\n",
      "32\n",
      "33\n",
      "33\n",
      "30\n",
      "33\n",
      "31\n"
     ]
    }
   ],
   "source": [
    "# concat reading and label\n",
    "sensor_data = pd.concat([reading, label], axis=1)\n",
    "# drop sub_id, RLA_ACC_X, RLA_ACC_Y, RLA_ACC_Z\n",
    "sensor_data = sensor_data.drop(columns=['sub_id', 'LLA_ACC_X', 'LLA_ACC_Y', 'LLA_ACC_Z'])\n",
    "# get the count of unique activities_id per cv\n",
    "for p in range(1, 18):\n",
    "    print(sensor_data[sensor_data['sub'] == p]['activity_id'].nunique())"
   ],
   "metadata": {
    "collapsed": false,
    "ExecuteTime": {
     "start_time": "2024-06-25T21:26:33.332677Z",
     "end_time": "2024-06-25T21:26:33.423960Z"
    }
   }
  },
  {
   "cell_type": "code",
   "execution_count": 30,
   "outputs": [
    {
     "ename": "FileNotFoundError",
     "evalue": "[Errno 2] No such file or directory: 'D:\\\\Concordia\\\\PERCOM_Variability_Model_Research\\\\data\\\\Run_logs\\\\LLA-self\\\\logs\\\\attend_data_realdisp_seed_1_windowsize_100_waveFilter_False_Fscaling_1_cvfilter_64_grufilter_128_Regu_False_wavelearnble_False\\\\cv_5\\\\prediction_result_LLA-self_LLA-self.csv'",
     "output_type": "error",
     "traceback": [
      "\u001B[1;31m---------------------------------------------------------------------------\u001B[0m",
      "\u001B[1;31mFileNotFoundError\u001B[0m                         Traceback (most recent call last)",
      "Cell \u001B[1;32mIn[30], line 6\u001B[0m\n\u001B[0;32m      1\u001B[0m \u001B[38;5;66;03m# create_confusion_matrix(root_path, 'RLA-ideal', 'RLA-ideal', 'attend', 0)\u001B[39;00m\n\u001B[0;32m      2\u001B[0m \u001B[38;5;66;03m# create_confusion_matrix(root_path, 'RLA-ideal', 'RLA-ideal', 'attend', 1)\u001B[39;00m\n\u001B[0;32m      3\u001B[0m \u001B[38;5;66;03m# create_confusion_matrix(root_path, 'RLA-ideal', 'RLA-ideal', 'attend', 2)\u001B[39;00m\n\u001B[0;32m      4\u001B[0m \u001B[38;5;66;03m# create_confusion_matrix(root_path, 'RLA-ideal', 'RLA-ideal', 'attend', 3)\u001B[39;00m\n\u001B[0;32m      5\u001B[0m \u001B[38;5;66;03m# create_confusion_matrix(root_path, 'RLA-ideal', 'RLA-ideal', 'attend', 4)\u001B[39;00m\n\u001B[1;32m----> 6\u001B[0m \u001B[43mcreate_confusion_matrix\u001B[49m\u001B[43m(\u001B[49m\u001B[43mroot_path\u001B[49m\u001B[43m,\u001B[49m\u001B[43m \u001B[49m\u001B[38;5;124;43m'\u001B[39;49m\u001B[38;5;124;43mLLA-self\u001B[39;49m\u001B[38;5;124;43m'\u001B[39;49m\u001B[43m,\u001B[49m\u001B[43m \u001B[49m\u001B[38;5;124;43m'\u001B[39;49m\u001B[38;5;124;43mLLA-self\u001B[39;49m\u001B[38;5;124;43m'\u001B[39;49m\u001B[43m,\u001B[49m\u001B[43m \u001B[49m\u001B[38;5;124;43m'\u001B[39;49m\u001B[38;5;124;43mattend\u001B[39;49m\u001B[38;5;124;43m'\u001B[39;49m\u001B[43m,\u001B[49m\u001B[43m \u001B[49m\u001B[38;5;241;43m5\u001B[39;49m\u001B[43m)\u001B[49m\n",
      "Cell \u001B[1;32mIn[27], line 64\u001B[0m, in \u001B[0;36mcreate_confusion_matrix\u001B[1;34m(root_path, model_variant, test_variant, model_type, cv)\u001B[0m\n\u001B[0;32m     62\u001B[0m csv_file \u001B[38;5;241m=\u001B[39m path\n\u001B[0;32m     63\u001B[0m \u001B[38;5;66;03m# open with pandas\u001B[39;00m\n\u001B[1;32m---> 64\u001B[0m df \u001B[38;5;241m=\u001B[39m \u001B[43mpd\u001B[49m\u001B[38;5;241;43m.\u001B[39;49m\u001B[43mread_csv\u001B[49m\u001B[43m(\u001B[49m\u001B[43mcsv_file\u001B[49m\u001B[43m)\u001B[49m\n\u001B[0;32m     65\u001B[0m \u001B[38;5;66;03m# if the file is empty, continue\u001B[39;00m\n\u001B[0;32m     66\u001B[0m \u001B[38;5;28;01mif\u001B[39;00m df\u001B[38;5;241m.\u001B[39mempty:\n",
      "File \u001B[1;32mD:\\Concordia\\PERCOM_Variability_Model_Research\\venv\\lib\\site-packages\\pandas\\io\\parsers\\readers.py:1024\u001B[0m, in \u001B[0;36mread_csv\u001B[1;34m(filepath_or_buffer, sep, delimiter, header, names, index_col, usecols, dtype, engine, converters, true_values, false_values, skipinitialspace, skiprows, skipfooter, nrows, na_values, keep_default_na, na_filter, verbose, skip_blank_lines, parse_dates, infer_datetime_format, keep_date_col, date_parser, date_format, dayfirst, cache_dates, iterator, chunksize, compression, thousands, decimal, lineterminator, quotechar, quoting, doublequote, escapechar, comment, encoding, encoding_errors, dialect, on_bad_lines, delim_whitespace, low_memory, memory_map, float_precision, storage_options, dtype_backend)\u001B[0m\n\u001B[0;32m   1011\u001B[0m kwds_defaults \u001B[38;5;241m=\u001B[39m _refine_defaults_read(\n\u001B[0;32m   1012\u001B[0m     dialect,\n\u001B[0;32m   1013\u001B[0m     delimiter,\n\u001B[1;32m   (...)\u001B[0m\n\u001B[0;32m   1020\u001B[0m     dtype_backend\u001B[38;5;241m=\u001B[39mdtype_backend,\n\u001B[0;32m   1021\u001B[0m )\n\u001B[0;32m   1022\u001B[0m kwds\u001B[38;5;241m.\u001B[39mupdate(kwds_defaults)\n\u001B[1;32m-> 1024\u001B[0m \u001B[38;5;28;01mreturn\u001B[39;00m \u001B[43m_read\u001B[49m\u001B[43m(\u001B[49m\u001B[43mfilepath_or_buffer\u001B[49m\u001B[43m,\u001B[49m\u001B[43m \u001B[49m\u001B[43mkwds\u001B[49m\u001B[43m)\u001B[49m\n",
      "File \u001B[1;32mD:\\Concordia\\PERCOM_Variability_Model_Research\\venv\\lib\\site-packages\\pandas\\io\\parsers\\readers.py:618\u001B[0m, in \u001B[0;36m_read\u001B[1;34m(filepath_or_buffer, kwds)\u001B[0m\n\u001B[0;32m    615\u001B[0m _validate_names(kwds\u001B[38;5;241m.\u001B[39mget(\u001B[38;5;124m\"\u001B[39m\u001B[38;5;124mnames\u001B[39m\u001B[38;5;124m\"\u001B[39m, \u001B[38;5;28;01mNone\u001B[39;00m))\n\u001B[0;32m    617\u001B[0m \u001B[38;5;66;03m# Create the parser.\u001B[39;00m\n\u001B[1;32m--> 618\u001B[0m parser \u001B[38;5;241m=\u001B[39m TextFileReader(filepath_or_buffer, \u001B[38;5;241m*\u001B[39m\u001B[38;5;241m*\u001B[39mkwds)\n\u001B[0;32m    620\u001B[0m \u001B[38;5;28;01mif\u001B[39;00m chunksize \u001B[38;5;129;01mor\u001B[39;00m iterator:\n\u001B[0;32m    621\u001B[0m     \u001B[38;5;28;01mreturn\u001B[39;00m parser\n",
      "File \u001B[1;32mD:\\Concordia\\PERCOM_Variability_Model_Research\\venv\\lib\\site-packages\\pandas\\io\\parsers\\readers.py:1618\u001B[0m, in \u001B[0;36mTextFileReader.__init__\u001B[1;34m(self, f, engine, **kwds)\u001B[0m\n\u001B[0;32m   1615\u001B[0m     \u001B[38;5;28mself\u001B[39m\u001B[38;5;241m.\u001B[39moptions[\u001B[38;5;124m\"\u001B[39m\u001B[38;5;124mhas_index_names\u001B[39m\u001B[38;5;124m\"\u001B[39m] \u001B[38;5;241m=\u001B[39m kwds[\u001B[38;5;124m\"\u001B[39m\u001B[38;5;124mhas_index_names\u001B[39m\u001B[38;5;124m\"\u001B[39m]\n\u001B[0;32m   1617\u001B[0m \u001B[38;5;28mself\u001B[39m\u001B[38;5;241m.\u001B[39mhandles: IOHandles \u001B[38;5;241m|\u001B[39m \u001B[38;5;28;01mNone\u001B[39;00m \u001B[38;5;241m=\u001B[39m \u001B[38;5;28;01mNone\u001B[39;00m\n\u001B[1;32m-> 1618\u001B[0m \u001B[38;5;28mself\u001B[39m\u001B[38;5;241m.\u001B[39m_engine \u001B[38;5;241m=\u001B[39m \u001B[38;5;28;43mself\u001B[39;49m\u001B[38;5;241;43m.\u001B[39;49m\u001B[43m_make_engine\u001B[49m\u001B[43m(\u001B[49m\u001B[43mf\u001B[49m\u001B[43m,\u001B[49m\u001B[43m \u001B[49m\u001B[38;5;28;43mself\u001B[39;49m\u001B[38;5;241;43m.\u001B[39;49m\u001B[43mengine\u001B[49m\u001B[43m)\u001B[49m\n",
      "File \u001B[1;32mD:\\Concordia\\PERCOM_Variability_Model_Research\\venv\\lib\\site-packages\\pandas\\io\\parsers\\readers.py:1878\u001B[0m, in \u001B[0;36mTextFileReader._make_engine\u001B[1;34m(self, f, engine)\u001B[0m\n\u001B[0;32m   1876\u001B[0m     \u001B[38;5;28;01mif\u001B[39;00m \u001B[38;5;124m\"\u001B[39m\u001B[38;5;124mb\u001B[39m\u001B[38;5;124m\"\u001B[39m \u001B[38;5;129;01mnot\u001B[39;00m \u001B[38;5;129;01min\u001B[39;00m mode:\n\u001B[0;32m   1877\u001B[0m         mode \u001B[38;5;241m+\u001B[39m\u001B[38;5;241m=\u001B[39m \u001B[38;5;124m\"\u001B[39m\u001B[38;5;124mb\u001B[39m\u001B[38;5;124m\"\u001B[39m\n\u001B[1;32m-> 1878\u001B[0m \u001B[38;5;28mself\u001B[39m\u001B[38;5;241m.\u001B[39mhandles \u001B[38;5;241m=\u001B[39m \u001B[43mget_handle\u001B[49m\u001B[43m(\u001B[49m\n\u001B[0;32m   1879\u001B[0m \u001B[43m    \u001B[49m\u001B[43mf\u001B[49m\u001B[43m,\u001B[49m\n\u001B[0;32m   1880\u001B[0m \u001B[43m    \u001B[49m\u001B[43mmode\u001B[49m\u001B[43m,\u001B[49m\n\u001B[0;32m   1881\u001B[0m \u001B[43m    \u001B[49m\u001B[43mencoding\u001B[49m\u001B[38;5;241;43m=\u001B[39;49m\u001B[38;5;28;43mself\u001B[39;49m\u001B[38;5;241;43m.\u001B[39;49m\u001B[43moptions\u001B[49m\u001B[38;5;241;43m.\u001B[39;49m\u001B[43mget\u001B[49m\u001B[43m(\u001B[49m\u001B[38;5;124;43m\"\u001B[39;49m\u001B[38;5;124;43mencoding\u001B[39;49m\u001B[38;5;124;43m\"\u001B[39;49m\u001B[43m,\u001B[49m\u001B[43m \u001B[49m\u001B[38;5;28;43;01mNone\u001B[39;49;00m\u001B[43m)\u001B[49m\u001B[43m,\u001B[49m\n\u001B[0;32m   1882\u001B[0m \u001B[43m    \u001B[49m\u001B[43mcompression\u001B[49m\u001B[38;5;241;43m=\u001B[39;49m\u001B[38;5;28;43mself\u001B[39;49m\u001B[38;5;241;43m.\u001B[39;49m\u001B[43moptions\u001B[49m\u001B[38;5;241;43m.\u001B[39;49m\u001B[43mget\u001B[49m\u001B[43m(\u001B[49m\u001B[38;5;124;43m\"\u001B[39;49m\u001B[38;5;124;43mcompression\u001B[39;49m\u001B[38;5;124;43m\"\u001B[39;49m\u001B[43m,\u001B[49m\u001B[43m \u001B[49m\u001B[38;5;28;43;01mNone\u001B[39;49;00m\u001B[43m)\u001B[49m\u001B[43m,\u001B[49m\n\u001B[0;32m   1883\u001B[0m \u001B[43m    \u001B[49m\u001B[43mmemory_map\u001B[49m\u001B[38;5;241;43m=\u001B[39;49m\u001B[38;5;28;43mself\u001B[39;49m\u001B[38;5;241;43m.\u001B[39;49m\u001B[43moptions\u001B[49m\u001B[38;5;241;43m.\u001B[39;49m\u001B[43mget\u001B[49m\u001B[43m(\u001B[49m\u001B[38;5;124;43m\"\u001B[39;49m\u001B[38;5;124;43mmemory_map\u001B[39;49m\u001B[38;5;124;43m\"\u001B[39;49m\u001B[43m,\u001B[49m\u001B[43m \u001B[49m\u001B[38;5;28;43;01mFalse\u001B[39;49;00m\u001B[43m)\u001B[49m\u001B[43m,\u001B[49m\n\u001B[0;32m   1884\u001B[0m \u001B[43m    \u001B[49m\u001B[43mis_text\u001B[49m\u001B[38;5;241;43m=\u001B[39;49m\u001B[43mis_text\u001B[49m\u001B[43m,\u001B[49m\n\u001B[0;32m   1885\u001B[0m \u001B[43m    \u001B[49m\u001B[43merrors\u001B[49m\u001B[38;5;241;43m=\u001B[39;49m\u001B[38;5;28;43mself\u001B[39;49m\u001B[38;5;241;43m.\u001B[39;49m\u001B[43moptions\u001B[49m\u001B[38;5;241;43m.\u001B[39;49m\u001B[43mget\u001B[49m\u001B[43m(\u001B[49m\u001B[38;5;124;43m\"\u001B[39;49m\u001B[38;5;124;43mencoding_errors\u001B[39;49m\u001B[38;5;124;43m\"\u001B[39;49m\u001B[43m,\u001B[49m\u001B[43m \u001B[49m\u001B[38;5;124;43m\"\u001B[39;49m\u001B[38;5;124;43mstrict\u001B[39;49m\u001B[38;5;124;43m\"\u001B[39;49m\u001B[43m)\u001B[49m\u001B[43m,\u001B[49m\n\u001B[0;32m   1886\u001B[0m \u001B[43m    \u001B[49m\u001B[43mstorage_options\u001B[49m\u001B[38;5;241;43m=\u001B[39;49m\u001B[38;5;28;43mself\u001B[39;49m\u001B[38;5;241;43m.\u001B[39;49m\u001B[43moptions\u001B[49m\u001B[38;5;241;43m.\u001B[39;49m\u001B[43mget\u001B[49m\u001B[43m(\u001B[49m\u001B[38;5;124;43m\"\u001B[39;49m\u001B[38;5;124;43mstorage_options\u001B[39;49m\u001B[38;5;124;43m\"\u001B[39;49m\u001B[43m,\u001B[49m\u001B[43m \u001B[49m\u001B[38;5;28;43;01mNone\u001B[39;49;00m\u001B[43m)\u001B[49m\u001B[43m,\u001B[49m\n\u001B[0;32m   1887\u001B[0m \u001B[43m\u001B[49m\u001B[43m)\u001B[49m\n\u001B[0;32m   1888\u001B[0m \u001B[38;5;28;01massert\u001B[39;00m \u001B[38;5;28mself\u001B[39m\u001B[38;5;241m.\u001B[39mhandles \u001B[38;5;129;01mis\u001B[39;00m \u001B[38;5;129;01mnot\u001B[39;00m \u001B[38;5;28;01mNone\u001B[39;00m\n\u001B[0;32m   1889\u001B[0m f \u001B[38;5;241m=\u001B[39m \u001B[38;5;28mself\u001B[39m\u001B[38;5;241m.\u001B[39mhandles\u001B[38;5;241m.\u001B[39mhandle\n",
      "File \u001B[1;32mD:\\Concordia\\PERCOM_Variability_Model_Research\\venv\\lib\\site-packages\\pandas\\io\\common.py:873\u001B[0m, in \u001B[0;36mget_handle\u001B[1;34m(path_or_buf, mode, encoding, compression, memory_map, is_text, errors, storage_options)\u001B[0m\n\u001B[0;32m    868\u001B[0m \u001B[38;5;28;01melif\u001B[39;00m \u001B[38;5;28misinstance\u001B[39m(handle, \u001B[38;5;28mstr\u001B[39m):\n\u001B[0;32m    869\u001B[0m     \u001B[38;5;66;03m# Check whether the filename is to be opened in binary mode.\u001B[39;00m\n\u001B[0;32m    870\u001B[0m     \u001B[38;5;66;03m# Binary mode does not support 'encoding' and 'newline'.\u001B[39;00m\n\u001B[0;32m    871\u001B[0m     \u001B[38;5;28;01mif\u001B[39;00m ioargs\u001B[38;5;241m.\u001B[39mencoding \u001B[38;5;129;01mand\u001B[39;00m \u001B[38;5;124m\"\u001B[39m\u001B[38;5;124mb\u001B[39m\u001B[38;5;124m\"\u001B[39m \u001B[38;5;129;01mnot\u001B[39;00m \u001B[38;5;129;01min\u001B[39;00m ioargs\u001B[38;5;241m.\u001B[39mmode:\n\u001B[0;32m    872\u001B[0m         \u001B[38;5;66;03m# Encoding\u001B[39;00m\n\u001B[1;32m--> 873\u001B[0m         handle \u001B[38;5;241m=\u001B[39m \u001B[38;5;28;43mopen\u001B[39;49m\u001B[43m(\u001B[49m\n\u001B[0;32m    874\u001B[0m \u001B[43m            \u001B[49m\u001B[43mhandle\u001B[49m\u001B[43m,\u001B[49m\n\u001B[0;32m    875\u001B[0m \u001B[43m            \u001B[49m\u001B[43mioargs\u001B[49m\u001B[38;5;241;43m.\u001B[39;49m\u001B[43mmode\u001B[49m\u001B[43m,\u001B[49m\n\u001B[0;32m    876\u001B[0m \u001B[43m            \u001B[49m\u001B[43mencoding\u001B[49m\u001B[38;5;241;43m=\u001B[39;49m\u001B[43mioargs\u001B[49m\u001B[38;5;241;43m.\u001B[39;49m\u001B[43mencoding\u001B[49m\u001B[43m,\u001B[49m\n\u001B[0;32m    877\u001B[0m \u001B[43m            \u001B[49m\u001B[43merrors\u001B[49m\u001B[38;5;241;43m=\u001B[39;49m\u001B[43merrors\u001B[49m\u001B[43m,\u001B[49m\n\u001B[0;32m    878\u001B[0m \u001B[43m            \u001B[49m\u001B[43mnewline\u001B[49m\u001B[38;5;241;43m=\u001B[39;49m\u001B[38;5;124;43m\"\u001B[39;49m\u001B[38;5;124;43m\"\u001B[39;49m\u001B[43m,\u001B[49m\n\u001B[0;32m    879\u001B[0m \u001B[43m        \u001B[49m\u001B[43m)\u001B[49m\n\u001B[0;32m    880\u001B[0m     \u001B[38;5;28;01melse\u001B[39;00m:\n\u001B[0;32m    881\u001B[0m         \u001B[38;5;66;03m# Binary mode\u001B[39;00m\n\u001B[0;32m    882\u001B[0m         handle \u001B[38;5;241m=\u001B[39m \u001B[38;5;28mopen\u001B[39m(handle, ioargs\u001B[38;5;241m.\u001B[39mmode)\n",
      "\u001B[1;31mFileNotFoundError\u001B[0m: [Errno 2] No such file or directory: 'D:\\\\Concordia\\\\PERCOM_Variability_Model_Research\\\\data\\\\Run_logs\\\\LLA-self\\\\logs\\\\attend_data_realdisp_seed_1_windowsize_100_waveFilter_False_Fscaling_1_cvfilter_64_grufilter_128_Regu_False_wavelearnble_False\\\\cv_5\\\\prediction_result_LLA-self_LLA-self.csv'"
     ]
    }
   ],
   "source": [
    "# create_confusion_matrix(root_path, 'RLA-ideal', 'RLA-ideal', 'attend', 0)\n",
    "# create_confusion_matrix(root_path, 'RLA-ideal', 'RLA-ideal', 'attend', 1)\n",
    "# create_confusion_matrix(root_path, 'RLA-ideal', 'RLA-ideal', 'attend', 2)\n",
    "# create_confusion_matrix(root_path, 'RLA-ideal', 'RLA-ideal', 'attend', 3)\n",
    "# create_confusion_matrix(root_path, 'RLA-ideal', 'RLA-ideal', 'attend', 4)\n",
    "create_confusion_matrix(root_path, 'LLA-self', 'LLA-self', 'attend', 5)\n"
   ],
   "metadata": {
    "collapsed": false,
    "ExecuteTime": {
     "start_time": "2024-06-25T20:49:58.986224Z",
     "end_time": "2024-06-25T20:50:01.534519Z"
    }
   }
  },
  {
   "cell_type": "code",
   "execution_count": null,
   "outputs": [],
   "source": [],
   "metadata": {
    "collapsed": false,
    "ExecuteTime": {
     "start_time": "2024-06-25T20:50:01.534519Z",
     "end_time": "2024-06-25T20:50:01.703666Z"
    }
   }
  },
  {
   "cell_type": "markdown",
   "source": [
    "## 1 v 1 Graphs and Info"
   ],
   "metadata": {
    "collapsed": false
   }
  },
  {
   "cell_type": "markdown",
   "source": [
    "## MMD Graphs"
   ],
   "metadata": {
    "collapsed": false
   }
  },
  {
   "cell_type": "code",
   "execution_count": 6,
   "outputs": [
    {
     "name": "stderr",
     "output_type": "stream",
     "text": [
      "D:\\Concordia\\PERCOM_Variability_Model_Research\\venv\\lib\\site-packages\\seaborn\\_base.py:949: FutureWarning: When grouping with a length-1 list-like, you will need to pass a length-1 tuple to get_group in a future version of pandas. Pass `(name,)` instead of `name` to silence this warning.\n",
      "  data_subset = grouped_data.get_group(pd_key)\n",
      "D:\\Concordia\\PERCOM_Variability_Model_Research\\venv\\lib\\site-packages\\seaborn\\_base.py:949: FutureWarning: When grouping with a length-1 list-like, you will need to pass a length-1 tuple to get_group in a future version of pandas. Pass `(name,)` instead of `name` to silence this warning.\n",
      "  data_subset = grouped_data.get_group(pd_key)\n"
     ]
    },
    {
     "data": {
      "text/plain": "<Figure size 1000x500 with 1 Axes>",
      "image/png": "[encoded data removed]"
     },
     "metadata": {},
     "output_type": "display_data"
    }
   ],
   "source": [
    "sensor_test = \"LLA-ideal\"\n",
    "sensor_train = \"LLA-self\"\n",
    "result_list = []\n",
    "for i in range(16):\n",
    "    did_run = True\n",
    "    for model in ['attend', 'deepconv', 'tinyhar']:\n",
    "        result1 = get_result_for_model(root_path, sensor_train, sensor_test, model, i)\n",
    "        result2 = get_result_for_model(root_path, sensor_test, sensor_test, model, i)\n",
    "\n",
    "        if result1 == None or result2 == None:\n",
    "            break\n",
    "\n",
    "        dict_results = {'f1': result1[3],\n",
    "                        'cv': i + 1,\n",
    "                        'device_config': 'F1 of ' + sensor_train + ' vs ' + sensor_test, 'model_type': model}\n",
    "        result_list.append(dict_results)\n",
    "        dict_results = {'f1': result2[3],\n",
    "                        'cv': i + 1,\n",
    "                        'device_config': 'F1 of ' + sensor_test + ' vs ' + sensor_test, 'model_type': model}\n",
    "        result_list.append(dict_results)\n",
    "\n",
    "df = pd.DataFrame(result_list)\n",
    "\n",
    "# plot the f1 score for all participants as bar graph using sns catplot bar with colors red and blue\n",
    "sns.catplot(x='cv', y='f1', hue='device_config', data=df, kind='bar', aspect=2, height=5, palette='muted',\n",
    "            legend_out=False)\n",
    "plt.title(sensor_test + ' vs ' + sensor_train)\n",
    "plt.xlabel('Cross Validation')\n",
    "plt.ylabel('F1 Score and MMD/10')\n",
    "# plot max y value is 1.1\n",
    "plt.ylim(0, 1.1)\n",
    "\n",
    "file_activity = 'new'\n",
    "\n",
    "# # read the mmd values from the csv\n",
    "# path = os.path.join(root_path, 'data', 'mmd', file_activity,\n",
    "#                     'mmd_results_' + sensor_test + '_' + sensor_test + '.csv')\n",
    "# mmd_1_1 = pd.read_csv(path)\n",
    "# # print(mmd_1_1)\n",
    "# path = os.path.join(root_path, 'data', 'mmd', file_activity,\n",
    "#                     'mmd_results_' + sensor_train + '_' + sensor_test + '.csv')\n",
    "# mmd_2_1 = pd.read_csv(path)\n",
    "#\n",
    "# ''' Get the mean for all activities for each cv '''\n",
    "# mmd_1_1 = mmd_1_1.groupby('CV').mean()\n",
    "# mmd_2_1 = mmd_2_1.groupby('CV').mean()\n",
    "#\n",
    "# # reset the index\n",
    "# mmd_1_1 = mmd_1_1.reset_index(drop=True)\n",
    "# mmd_2_1 = mmd_2_1.reset_index(drop=True)\n",
    "#\n",
    "# # set the CV values to be 1 to len\n",
    "# len_df = len(mmd_1_1)\n",
    "# mmd_1_1['CV'] = range(1, len_df + 1)\n",
    "# mmd_2_1['CV'] = range(1, len_df + 1)\n",
    "#\n",
    "# # divide the df into two based on device_config\n",
    "# f1_1_1 = df[(df['device_config'] == 'F1 of ' + sensor_test + ' vs ' + sensor_test)]\n",
    "# f1_2_1 = df[(df['device_config'] == 'F1 of ' + sensor_train + ' vs ' + sensor_test)]\n",
    "# # drop model_type\n",
    "# f1_1_1 = f1_1_1.drop(columns='model_type')\n",
    "# f1_2_1 = f1_2_1.drop(columns='model_type')\n",
    "# # drop device_config\n",
    "# f1_1_1 = f1_1_1.drop(columns='device_config')\n",
    "# f1_2_1 = f1_2_1.drop(columns='device_config')\n",
    "#\n",
    "# # get the mean of all models for each cv\n",
    "# f1_1_1 = f1_1_1.groupby('cv').mean()\n",
    "# f1_2_1 = f1_2_1.groupby('cv').mean()\n",
    "#\n",
    "# # make the cv column the index\n",
    "# mmd_1_1 = mmd_1_1.set_index('CV')\n",
    "# mmd_2_1 = mmd_2_1.set_index('CV')\n",
    "#\n",
    "# # finding the corelation between mmd and f1 score for 1_1\n",
    "# mmd_1_1['f1'] = f1_1_1['f1']\n",
    "# mmd_2_1['f1'] = f1_2_1['f1']\n",
    "#\n",
    "#\n",
    "# print(mmd_1_1.corr())\n",
    "# print(mmd_2_1.corr())\n",
    "#\n",
    "# # divide MMD value by 10\n",
    "# mmd_1_1['mmd'] = mmd_1_1['mmd'] / 10\n",
    "# mmd_2_1['mmd'] = mmd_2_1['mmd'] / 10\n",
    "#\n",
    "# # reset the index to be 0 to len\n",
    "# mmd_1_1 = mmd_1_1.reset_index()\n",
    "# mmd_2_1 = mmd_2_1.reset_index()\n",
    "# # plot the mmd values not only as line but also as points on the graph\n",
    "# sns.scatterplot(data=mmd_2_1['mmd'], color='blue', label='MMD of (' + sensor_train + ' vs ' + sensor_test + ') /10')\n",
    "# ax = sns.scatterplot(data=mmd_1_1['mmd'], color='red',\n",
    "#                      label='MMD of (' + sensor_test + ' vs ' + sensor_test + ') /10')\n",
    "# # plot the mmd values on top of the f1 score. with x as cv, with thickness 2\n",
    "# sns.lineplot(data=mmd_2_1['mmd'], color='blue', label='MMD of (' + sensor_train + ' vs ' + sensor_test + ') /10',\n",
    "#              linewidth=2)\n",
    "# ax = sns.lineplot(data=mmd_1_1['mmd'], color='red', label='MMD of (' + sensor_test + ' vs ' + sensor_test + ') /10',\n",
    "#                   linewidth=2)\n",
    "# sns.move_legend(ax, \"upper left\", bbox_to_anchor=(1, 1))\n",
    "\n",
    "plt.show()\n"
   ],
   "metadata": {
    "collapsed": false,
    "ExecuteTime": {
     "start_time": "2024-06-26T09:47:25.816350Z",
     "end_time": "2024-06-26T09:47:30.051886Z"
    }
   }
  },
  {
   "cell_type": "code",
   "execution_count": null,
   "outputs": [],
   "source": [
    "data_util = REALDISPUtils()"
   ],
   "metadata": {
    "collapsed": false,
    "ExecuteTime": {
     "start_time": "2024-06-25T20:50:05.140052Z",
     "end_time": "2024-06-25T20:50:05.230609Z"
    }
   }
  },
  {
   "cell_type": "code",
   "execution_count": null,
   "outputs": [],
   "source": [
    "data = data_util.load_all_the_data_realdisp(os.path.join(root_path, \"data\", \"realdisp\"), 'RLA-ideal', range(1,18))"
   ],
   "metadata": {
    "collapsed": false,
    "ExecuteTime": {
     "start_time": "2024-06-25T20:50:05.155014Z",
     "end_time": "2024-06-25T20:50:39.847933Z"
    }
   }
  },
  {
   "cell_type": "code",
   "execution_count": null,
   "outputs": [],
   "source": [
    "test = data"
   ],
   "metadata": {
    "collapsed": false,
    "ExecuteTime": {
     "start_time": "2024-06-25T20:50:39.851934Z",
     "end_time": "2024-06-25T20:50:39.863497Z"
    }
   }
  },
  {
   "cell_type": "code",
   "execution_count": null,
   "outputs": [],
   "source": [
    "sensor_data = test[0]"
   ],
   "metadata": {
    "collapsed": false,
    "ExecuteTime": {
     "start_time": "2024-06-25T20:50:39.867508Z",
     "end_time": "2024-06-25T20:50:39.889165Z"
    }
   }
  },
  {
   "cell_type": "code",
   "execution_count": null,
   "outputs": [],
   "source": [
    "activity = test[1]"
   ],
   "metadata": {
    "collapsed": false,
    "ExecuteTime": {
     "start_time": "2024-06-25T20:50:39.881135Z",
     "end_time": "2024-06-25T20:50:39.900109Z"
    }
   }
  },
  {
   "cell_type": "code",
   "execution_count": null,
   "outputs": [],
   "source": [
    "# concat the sensor data and activty in a new dataframe\n",
    "sensor_data = pd.concat([sensor_data, activity], axis=1)"
   ],
   "metadata": {
    "collapsed": false,
    "ExecuteTime": {
     "start_time": "2024-06-25T20:50:39.899108Z",
     "end_time": "2024-06-25T20:50:39.944886Z"
    }
   }
  },
  {
   "cell_type": "code",
   "execution_count": null,
   "outputs": [],
   "source": [
    "sensor_data"
   ],
   "metadata": {
    "collapsed": false,
    "ExecuteTime": {
     "start_time": "2024-06-25T20:50:39.930517Z",
     "end_time": "2024-06-25T20:50:40.006791Z"
    }
   }
  },
  {
   "cell_type": "code",
   "execution_count": null,
   "outputs": [],
   "source": [
    "# count the number of activities per cv\n",
    "activity_count = sensor_data.groupby('sub').count()"
   ],
   "metadata": {
    "collapsed": false,
    "ExecuteTime": {
     "start_time": "2024-06-25T20:50:40.006791Z",
     "end_time": "2024-06-25T20:50:40.110534Z"
    }
   }
  },
  {
   "cell_type": "code",
   "execution_count": null,
   "outputs": [],
   "source": [
    "activity_count"
   ],
   "metadata": {
    "collapsed": false,
    "ExecuteTime": {
     "start_time": "2024-06-25T20:50:40.053668Z",
     "end_time": "2024-06-25T20:50:40.155797Z"
    }
   }
  },
  {
   "cell_type": "code",
   "execution_count": null,
   "outputs": [],
   "source": [],
   "metadata": {
    "collapsed": false,
    "ExecuteTime": {
     "start_time": "2024-06-25T20:50:40.068668Z",
     "end_time": "2024-06-25T20:50:40.174770Z"
    }
   }
  }
 ],
 "metadata": {
  "kernelspec": {
   "display_name": "Python 3",
   "language": "python",
   "name": "python3"
  },
  "language_info": {
   "codemirror_mode": {
    "name": "ipython",
    "version": 2
   },
   "file_extension": ".py",
   "mimetype": "text/x-python",
   "name": "python",
   "nbconvert_exporter": "python",
   "pygments_lexer": "ipython2",
   "version": "2.7.6"
  }
 },
 "nbformat": 4,
 "nbformat_minor": 0
}
