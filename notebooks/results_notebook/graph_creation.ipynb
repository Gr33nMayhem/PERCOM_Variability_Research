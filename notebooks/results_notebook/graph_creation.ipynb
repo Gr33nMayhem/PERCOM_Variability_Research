{
 "cells": [
  {
   "cell_type": "code",
   "execution_count": null,
   "outputs": [],
   "source": [
    "import matplotlib.pyplot as plt\n",
    "import numpy as np\n",
    "import pandas as pd\n",
    "import os\n",
    "from sklearn.metrics import confusion_matrix\n",
    "import seaborn as sns\n",
    "from statsmodels.stats.anova import AnovaRM"
   ],
   "metadata": {
    "collapsed": false,
    "ExecuteTime": {
     "start_time": "2024-01-29T02:35:43.773565Z",
     "end_time": "2024-01-29T02:35:43.836399Z"
    }
   }
  },
  {
   "cell_type": "code",
   "execution_count": 119,
   "outputs": [],
   "source": [
    "# Method used for getting the right path for a model based on the device name and the cv number\n",
    "'''\n",
    "root_path: the root path of the project\n",
    "device: the device name\n",
    "cv: the cross validation number\n",
    "\n",
    "Acceptable model types: attend, deepconv, tinyhar\n",
    "'''\n",
    "\n",
    "\n",
    "def get_model_path(root_path, device, model_type, cv):\n",
    "    path = root_path\n",
    "    parent_path = os.path.join(path, 'data', 'Run_logs', device, 'logs')\n",
    "    # parent paths has three folders for attend, deepCONV, TinyHAR. Get a list of all folders in the parent path\n",
    "    folders = os.listdir(parent_path)\n",
    "    for folder in folders:\n",
    "        if model_type in folder:\n",
    "            path = os.path.join(parent_path, folder)\n",
    "            break\n",
    "    # path now has the path to the model type folder\n",
    "    path = os.path.join(path, 'cv_' + str(cv))\n",
    "    return path\n",
    "\n",
    "\n",
    "def get_result_for_model(root_path, model_device, test_device, model_type, cv):\n",
    "    path = get_model_path(root_path, model_device, model_type, cv)\n",
    "    filename = 'prediction_result_' + model_device + '_' + test_device + '.csv'\n",
    "    path = os.path.join(path, filename)\n",
    "    # open the csv file prediction_result_ and read the data\n",
    "    csv_file = path\n",
    "    # open with pandas\n",
    "    df = pd.read_csv(csv_file)\n",
    "    # if the file is empty, continue\n",
    "    if df.empty:\n",
    "        return None\n",
    "\n",
    "    # get the prediction result\n",
    "    preds = df['preds'].values\n",
    "    # get the ground truth\n",
    "    trues = df['trues'].values\n",
    "\n",
    "    accuracy = np.sum(preds == trues) / len(preds)\n",
    "    precision = np.sum((preds == 1) & (trues == 1)) / np.sum(preds == 1)\n",
    "    recall = np.sum((preds == 1) & (trues == 1)) / np.sum(trues == 1)\n",
    "    f1 = 2 * np.sum((preds == 1) & (trues == 1)) / (np.sum(preds == 1) + np.sum(trues == 1))\n",
    "\n",
    "    return accuracy, precision, recall, f1  #, preds, trues"
   ],
   "metadata": {
    "collapsed": false,
    "ExecuteTime": {
     "start_time": "2024-01-29T12:16:21.221743Z",
     "end_time": "2024-01-29T12:16:21.254765Z"
    }
   }
  },
  {
   "cell_type": "code",
   "execution_count": 123,
   "outputs": [],
   "source": [
    "# Method for creating a multi bar graph with x axis and y axis values in the for of a list\n",
    "'''\n",
    "x: list of x axis labels\n",
    "y: list of y axis values\n",
    "x_label: x axis label\n",
    "y_label: y axis label\n",
    "title: title of the graph\n",
    "width: width of the graph\n",
    "height: height of the graph\n",
    "bar_width: width of each bar\n",
    "'''\n",
    "\n",
    "\n",
    "def generate_multi_bar_graph(data_frame, x_label, y_label, title, width, height, bar_width, std=False):\n",
    "    # set the width of the bars\n",
    "    bar_width = bar_width\n",
    "    sns.barplot(data_frame, x=x_label, y=y_label, palette='dark', errorbar='sd' if std else None)\n",
    "\n",
    "    plt.title(title)\n",
    "    plt.xlabel(x_label)\n",
    "    plt.ylabel(y_label)\n",
    "    plt.ylim(0, 1)\n",
    "    plt.legend(loc='upper right')\n",
    "    plt.xticks(rotation=45)\n",
    "    plt.gcf().set_size_inches(width, height)\n",
    "    plt.show()\n",
    "\n",
    "\n",
    "def generate_mean_graph_for_model_type(root_path, model_device, test_devices, model_type):\n",
    "    # get the result for the model\n",
    "    # Get the average CV results for model_device with all th devices in test_devices\n",
    "    model_results = [[] for i in range(len(test_devices))]\n",
    "    for device in test_devices:\n",
    "        for i in range(8):\n",
    "            model_results[test_devices.index(device)].append(\n",
    "                get_result_for_model(root_path, model_device, device, model_type, i))\n",
    "    # get the average of the results\n",
    "    mean_f1_scores = []\n",
    "    for i in range(len(test_devices)):\n",
    "        mean_f1_scores.append(np.mean(model_results[i][3], axis=0))\n",
    "\n",
    "    # get the standard deviation of the results\n",
    "    std_f1_scores = []\n",
    "    for i in range(len(test_devices)):\n",
    "        std_f1_scores.append(np.std(model_results[i][3], axis=0))\n",
    "\n",
    "    # get the data frame\n",
    "    data_frame = pd.DataFrame({'Device': test_devices, 'F1 Score': mean_f1_scores, 'Standard Deviation': std_f1_scores})\n",
    "    # generate the graph\n",
    "    generate_multi_bar_graph(data_frame, 'Device', 'F1 Score',\n",
    "                             'Mean F1 Scores for Model trained with ' + model_device + ' and model type ' + model_type,\n",
    "                             10, 5,\n",
    "                             0.5, std=True)\n",
    "\n",
    "\n",
    "def generate_mean_graph_for_model_all_type(root_path, model_device, test_devices):\n",
    "    generate_mean_graph_for_model_type(root_path, model_device, test_devices, 'attend')\n",
    "    generate_mean_graph_for_model_type(root_path, model_device, test_devices, 'deepconv')\n",
    "    generate_mean_graph_for_model_type(root_path, model_device, test_devices, 'tinyhar')\n",
    "\n",
    "\n",
    "def get_f1_df(model_device, test_devices):\n",
    "    data = {'Device': [], 'F1 Score': [], 'model_type': [], 'cv': []}\n",
    "    df = pd.DataFrame(data)\n",
    "    for device in test_devices:\n",
    "        print(device)\n",
    "        for i in range(8):\n",
    "            new_row = {'Device': device,\n",
    "                       'F1 Score': get_result_for_model(root_path, model_device, device, 'attend', i)[3],\n",
    "                       'model_type': 'attend',\n",
    "                       'cv': i}\n",
    "            df = pd.concat([df, pd.DataFrame(new_row, index=[0])], ignore_index=True)\n",
    "            new_row = {'Device': device,\n",
    "                       'F1 Score': get_result_for_model(root_path, model_device, device, 'deepconv', i)[3],\n",
    "                       'model_type': 'deepconv',\n",
    "                       'cv': i}\n",
    "            df = pd.concat([df, pd.DataFrame(new_row, index=[0])], ignore_index=True)\n",
    "            new_row = {'Device': device,\n",
    "                       'F1 Score': get_result_for_model(root_path, model_device, device, 'tinyhar', i)[3],\n",
    "                       'model_type': 'tinyhar',\n",
    "                       'cv': i}\n",
    "            df = pd.concat([df, pd.DataFrame(new_row, index=[0])], ignore_index=True)\n",
    "    return df\n",
    "\n",
    "\n",
    "def generate_graph_with_std(root_path, model_device, test_devices):\n",
    "    df = get_f1_df(model_device, test_devices)\n",
    "\n",
    "    # # get AnovaRM for one device\n",
    "    # temp_df = df[df['Device'] == device]\n",
    "    # aovrm = AnovaRM(temp_df, 'F1 Score', 'cv', within=['model_type'])\n",
    "    # print(aovrm.fit())\n",
    "\n",
    "    # generate the graph\n",
    "    g = sns.catplot(x='Device', y='F1 Score', hue='model_type', data=df, kind='bar', palette='dark', errorbar='sd',\n",
    "                    alpha=.6, height=6, aspect=2).set(title='F1 Score for Model trained with ' + model_device)\n",
    "    g.despine(left=True)\n",
    "    g.set_ylabels('F1 Score')\n",
    "    g.set_xlabels('Device')\n",
    "    g.set_xticklabels(rotation=45)\n",
    "\n",
    "    # save the graph in folder mean_graphs in the logs, create folder if not exists\n",
    "    if not os.path.exists(os.path.join(root_path, 'data', 'Run_logs', model_device, 'logs', 'mean_graphs')):\n",
    "        os.makedirs(os.path.join(root_path, 'data', 'Run_logs', model_device, 'logs', 'mean_graphs'))\n",
    "    # plt.savefig(os.path.join(root_path, 'data', 'Run_logs', model_device, 'logs', 'mean_graphs',\n",
    "    #                          'F1 Score for Model trained with ' + model_device + '.png'))\n",
    "\n",
    "\n"
   ],
   "metadata": {
    "collapsed": false,
    "ExecuteTime": {
     "start_time": "2024-01-29T12:16:37.174549Z",
     "end_time": "2024-01-29T12:16:37.206111Z"
    }
   }
  },
  {
   "cell_type": "code",
   "execution_count": 124,
   "outputs": [],
   "source": [
    "root_path = os.path.abspath(os.path.join('..', '..'))"
   ],
   "metadata": {
    "collapsed": false,
    "ExecuteTime": {
     "start_time": "2024-01-29T12:16:40.173828Z",
     "end_time": "2024-01-29T12:16:40.201454Z"
    }
   }
  },
  {
   "cell_type": "code",
   "execution_count": null,
   "outputs": [],
   "source": [
    "# # generate multi bar graph for bluesense RWR1 vs bluesense RWR2 and empatica-right\n",
    "# # get the result for bluesense RWR1 vs bluesense RWR1\n",
    "# bs_rwr1_bs_rwr1 = get_result_for_model(root_path, 'bluesense-RWR1', 'bluesense-RWR1', 'attend', 0)\n",
    "# # get the result for bluesense RWR1 vs bluesense RWR2\n",
    "# bs_rwr1_bs_rwr2 = get_result_for_model(root_path, 'bluesense-RWR1', 'bluesense-RWR2', 'attend', 0)\n",
    "# # get the result for bluesense RWR1 vs emaptica-right\n",
    "# bs_rwr1_emaptica_right = get_result_for_model(root_path, 'bluesense-RWR1', 'empatica-right', 'attend', 0)\n",
    "#\n",
    "# print(bs_rwr1_bs_rwr1)\n",
    "# print(bs_rwr1_bs_rwr2)\n",
    "# print(bs_rwr1_emaptica_right)"
   ],
   "metadata": {
    "collapsed": false,
    "ExecuteTime": {
     "start_time": "2024-01-29T02:35:43.857855Z",
     "end_time": "2024-01-29T02:35:43.884912Z"
    }
   }
  },
  {
   "cell_type": "code",
   "execution_count": null,
   "outputs": [],
   "source": [
    "# # Get the average CV results for bluesense-RWR1 vs bluesense-RWR2 and empatica-right\n",
    "# bs_rwr1_bs_rwr1 = []\n",
    "# bs_rwr1_bs_rwr2 = []\n",
    "# bs_rwr1_emaptica_right = []\n",
    "# for i in range(8):\n",
    "#     bs_rwr1_bs_rwr1.append(get_result_for_model(root_path, 'bluesense-RWR1', 'bluesense-RWR1', 'attend', i))\n",
    "#     bs_rwr1_bs_rwr2.append(get_result_for_model(root_path, 'bluesense-RWR1', 'bluesense-RWR2', 'attend', i))\n",
    "#     bs_rwr1_emaptica_right.append(get_result_for_model(root_path, 'bluesense-RWR1', 'empatica-right', 'attend', i))\n"
   ],
   "metadata": {
    "collapsed": false,
    "ExecuteTime": {
     "start_time": "2024-01-29T02:35:43.871993Z",
     "end_time": "2024-01-29T02:35:43.884912Z"
    }
   }
  },
  {
   "cell_type": "code",
   "execution_count": null,
   "outputs": [],
   "source": [
    "# # create a dataframe for the results at index 0, 1, 2, 3\n",
    "# df = pd.DataFrame({'devices': ['bluesense-RWR1_bluesense-RWR1', 'bluesense-RWR1_bluesense-RWR2', 'bluesense-RWR1_empatica-right'],\n",
    "#                    'accuracy': [np.mean([x[0] for x in bs_rwr1_bs_rwr1]), np.mean([x[0] for x in bs_rwr1_bs_rwr2]), np.mean([x[0] for x in bs_rwr1_emaptica_right])],\n",
    "#                    'precision': [np.mean([x[1] for x in bs_rwr1_bs_rwr1]), np.mean([x[1] for x in bs_rwr1_bs_rwr2]), np.mean([x[1] for x in bs_rwr1_emaptica_right])],\n",
    "#                    'recall': [np.mean([x[2] for x in bs_rwr1_bs_rwr1]), np.mean([x[2] for x in bs_rwr1_bs_rwr2]), np.mean([x[2] for x in bs_rwr1_emaptica_right])],\n",
    "#                    'f1': [np.mean([x[3] for x in bs_rwr1_bs_rwr1]), np.mean([x[3] for x in bs_rwr1_bs_rwr2]), np.mean([x[3] for x in bs_rwr1_emaptica_right])]})\n",
    "#\n",
    "# # generate_multi_bar_graph(df, 'devices', 'accuracy', 'Accuracy for bluesense-RWR1 vs bluesense-RWR2 and empatica-right', 10, 5, 0.5)\n",
    "# # generate_multi_bar_graph(df, 'devices', 'precision', 'Precision for bluesense-RWR1 vs bluesense-RWR2 and empatica-right', 10, 5, 0.5)\n",
    "# # generate_multi_bar_graph(df, 'devices', 'recall', 'Recall for bluesense-RWR1 vs bluesense-RWR2 and empatica-right', 10, 5, 0.5)\n",
    "# generate_multi_bar_graph(df, 'devices', 'f1', 'Mean F1 for bluesense-RWR1 vs bluesense-RWR2 and empatica-right over all participant', 10, 5, 0.5)"
   ],
   "metadata": {
    "collapsed": false,
    "ExecuteTime": {
     "start_time": "2024-01-29T02:35:43.884912Z",
     "end_time": "2024-01-29T02:35:43.913206Z"
    }
   }
  },
  {
   "cell_type": "code",
   "execution_count": null,
   "outputs": [],
   "source": [
    "# # generate a graph for each CV result for bluesense-RWR1 vs bluesense-RWR2 and empatica-right\n",
    "# for i in range(8):\n",
    "#     df = pd.DataFrame({'devices': ['bluesense-RWR1_bluesense-RWR1', 'bluesense-RWR1_bluesense-RWR2', 'bluesense-RWR1_empatica-right'],\n",
    "#                        'accuracy': [bs_rwr1_bs_rwr1[i][0], bs_rwr1_bs_rwr2[i][0], bs_rwr1_emaptica_right[i][0]],\n",
    "#                        'precision': [bs_rwr1_bs_rwr1[i][1], bs_rwr1_bs_rwr2[i][1], bs_rwr1_emaptica_right[i][1]],\n",
    "#                        'recall': [bs_rwr1_bs_rwr1[i][2], bs_rwr1_bs_rwr2[i][2], bs_rwr1_emaptica_right[i][2]],\n",
    "#                        'f1': [bs_rwr1_bs_rwr1[i][3], bs_rwr1_bs_rwr2[i][3], bs_rwr1_emaptica_right[i][3]]})\n",
    "#\n",
    "#     # generate_multi_bar_graph(df, 'devices', 'accuracy', 'Accuracy for bluesense-RWR1 vs bluesense-RWR2 and empatica-right', 10, 5, 0.5)\n",
    "#     # generate_multi_bar_graph(df, 'devices', 'precision', 'Precision for bluesense-RWR1 vs bluesense-RWR2 and empatica-right', 10, 5, 0.5)\n",
    "#     # generate_multi_bar_graph(df, 'devices', 'recall', 'Recall for bluesense-RWR1 vs bluesense-RWR2 and empatica-right', 10, 5, 0.5)\n",
    "#     generate_multi_bar_graph(df, 'devices', 'f1', 'F1 for bluesense-RWR1 vs bluesense-RWR2 and empatica-right for participant ' + str(i), 10, 5, 0.5)"
   ],
   "metadata": {
    "collapsed": false,
    "ExecuteTime": {
     "start_time": "2024-01-29T02:35:43.904915Z",
     "end_time": "2024-01-29T02:35:43.944726Z"
    }
   }
  },
  {
   "cell_type": "code",
   "execution_count": null,
   "outputs": [],
   "source": [
    "# # Get the average CV results for bluesense-LWR vs bluesense-LUA, empatica-left and maxim-green\n",
    "# bs_lwr_bs_lwr = []\n",
    "# bs_lwr_bs_lua = []\n",
    "# bs_lwr_emaptica_left = []\n",
    "# bs_lwr_maxim_green = []\n",
    "# for i in range(8):\n",
    "#     bs_lwr_bs_lwr.append(get_result_for_model(root_path, 'bluesense-LWR', 'bluesense-LWR', 'attend', i))\n",
    "#     bs_lwr_bs_lua.append(get_result_for_model(root_path, 'bluesense-LWR', 'bluesense-LUA', 'attend', i))\n",
    "#     bs_lwr_emaptica_left.append(get_result_for_model(root_path, 'bluesense-LWR', 'empatica-left', 'attend', i))\n",
    "#     bs_lwr_maxim_green.append(get_result_for_model(root_path, 'bluesense-LWR', 'maxim-green', 'attend', i))\n"
   ],
   "metadata": {
    "collapsed": false,
    "ExecuteTime": {
     "start_time": "2024-01-29T02:35:43.919212Z",
     "end_time": "2024-01-29T02:35:43.946725Z"
    }
   }
  },
  {
   "cell_type": "code",
   "execution_count": null,
   "outputs": [],
   "source": [
    "# # create a dataframe for the results at index 0, 1, 2, 3\n",
    "# df = pd.DataFrame({'devices': ['bluesense-LWR_bluesense-LWR', 'bluesense-LWR_bluesense-LUA', 'bluesense-LWR_empatica-left', 'bluesense-LWR_maxim-green'],\n",
    "#                    'accuracy': [np.mean([x[0] for x in bs_lwr_bs_lwr]), np.mean([x[0] for x in bs_lwr_bs_lua]), np.mean([x[0] for x in bs_lwr_emaptica_left]), np.mean([x[0] for x in bs_lwr_maxim_green])],\n",
    "#                    'precision': [np.mean([x[1] for x in bs_lwr_bs_lwr]), np.mean([x[1] for x in bs_lwr_bs_lua]), np.mean([x[1] for x in bs_lwr_emaptica_left]), np.mean([x[1] for x in bs_lwr_maxim_green])],\n",
    "#                    'recall': [np.mean([x[2] for x in bs_lwr_bs_lwr]), np.mean([x[2] for x in bs_lwr_bs_lua]), np.mean([x[2] for x in bs_lwr_emaptica_left]), np.mean([x[2] for x in bs_lwr_maxim_green])],\n",
    "#                    'f1': [np.mean([x[3] for x in bs_lwr_bs_lwr]), np.mean([x[3] for x in bs_lwr_bs_lua]), np.mean([x[3] for x in bs_lwr_emaptica_left]), np.mean([x[3] for x in bs_lwr_maxim_green])]})\n",
    "#\n",
    "# generate_multi_bar_graph(df, 'devices', 'f1', 'F1 for bluesense-RWR1 vs bluesense-RWR2 and empatica-right for participant ' + str(i), 10, 5, 0.5)"
   ],
   "metadata": {
    "collapsed": false,
    "ExecuteTime": {
     "start_time": "2024-01-29T02:35:43.934732Z",
     "end_time": "2024-01-29T02:35:43.960042Z"
    }
   }
  },
  {
   "cell_type": "code",
   "execution_count": null,
   "outputs": [],
   "source": [
    "test_devices = ['bluesense-RWR1', 'bluesense-RWR2', 'bluesense-LWR', 'bluesense-LUA', 'bluesense-RUA', 'bluesense-TRS',\n",
    "                'empatica-left', 'empatica-right', 'maxim-green']"
   ],
   "metadata": {
    "collapsed": false,
    "ExecuteTime": {
     "start_time": "2024-01-29T02:35:43.948728Z",
     "end_time": "2024-01-29T02:35:43.974439Z"
    }
   }
  },
  {
   "cell_type": "code",
   "execution_count": null,
   "outputs": [],
   "source": [
    "# generate_mean_graph_for_model_all_type(root_path, 'bluesense-RWR1', test_devices)\n",
    "# generate_mean_graph_for_model_all_type(root_path, 'bluesense-RWR2', test_devices)\n",
    "# generate_mean_graph_for_model_all_type(root_path, 'bluesense-LWR', test_devices)\n",
    "# generate_mean_graph_for_model_all_type(root_path, 'bluesense-LUA', test_devices)\n",
    "# generate_mean_graph_for_model_all_type(root_path, 'bluesense-RUA', test_devices)\n",
    "# generate_mean_graph_for_model_all_type(root_path, 'bluesense-TRS', test_devices)\n",
    "# generate_mean_graph_for_model_all_type(root_path, 'empatica-left', test_devices)\n",
    "# generate_mean_graph_for_model_all_type(root_path, 'empatica-right', test_devices)\n",
    "# generate_mean_graph_for_model_all_type(root_path, 'maxim-green', test_devices)"
   ],
   "metadata": {
    "collapsed": false,
    "ExecuteTime": {
     "start_time": "2024-01-29T02:35:43.966043Z",
     "end_time": "2024-01-29T02:35:44.018482Z"
    }
   }
  },
  {
   "cell_type": "code",
   "execution_count": null,
   "outputs": [],
   "source": [
    "generate_graph_with_std(root_path, 'bluesense-RWR1', test_devices)\n",
    "generate_graph_with_std(root_path, 'bluesense-RWR2', test_devices)\n",
    "generate_graph_with_std(root_path, 'bluesense-LWR', test_devices)\n",
    "generate_graph_with_std(root_path, 'bluesense-LUA', test_devices)\n",
    "generate_graph_with_std(root_path, 'bluesense-RUA', test_devices)\n",
    "generate_graph_with_std(root_path, 'bluesense-TRS', test_devices)\n",
    "generate_graph_with_std(root_path, 'empatica-left', test_devices)\n",
    "generate_graph_with_std(root_path, 'empatica-right', test_devices)\n",
    "generate_graph_with_std(root_path, 'maxim-green', test_devices)\n"
   ],
   "metadata": {
    "collapsed": false,
    "ExecuteTime": {
     "start_time": "2024-01-29T02:35:43.982439Z",
     "end_time": "2024-01-29T02:35:57.734919Z"
    }
   }
  },
  {
   "cell_type": "code",
   "execution_count": 156,
   "outputs": [],
   "source": [
    "device_train = 'bluesense-RWR2'\n",
    "device_test = 'bluesense-RWR1'\n",
    "# read the mmd values from the csv\n",
    "path = os.path.join(root_path, 'data', 'mmd', 'mmd_results_' + device_train + '_' + device_train + '.csv')\n",
    "df_train_test = pd.read_csv(path)\n",
    "# print(df_train_test)\n",
    "path = os.path.join(root_path, 'data', 'mmd', 'mmd_results_' + device_train + '_' + device_test + '.csv')\n",
    "df_test_train = pd.read_csv(path)\n",
    "# print(df_test_train)"
   ],
   "metadata": {
    "collapsed": false,
    "ExecuteTime": {
     "start_time": "2024-01-29T13:05:24.274335Z",
     "end_time": "2024-01-29T13:05:24.329470Z"
    }
   }
  },
  {
   "cell_type": "code",
   "execution_count": 157,
   "outputs": [
    {
     "name": "stdout",
     "output_type": "stream",
     "text": [
      "0   -0.115135\n",
      "1   -0.052276\n",
      "2   -0.331339\n",
      "3    0.105927\n",
      "4    0.216494\n",
      "5   -0.031152\n",
      "6   -0.215687\n",
      "7   -0.250131\n",
      "Name: delta_mag, dtype: float64\n"
     ]
    }
   ],
   "source": [
    "# get the magnitude from Acc_X, Acc_Y, Acc_Z for both df\n",
    "df_train_test['magnitude'] = np.sqrt(\n",
    "    df_train_test['Acc_X'] ** 2 + df_train_test['Acc_Y'] ** 2 + df_train_test['Acc_Z'] ** 2)\n",
    "df_test_train['magnitude'] = np.sqrt(\n",
    "    df_test_train['Acc_X'] ** 2 + df_test_train['Acc_Y'] ** 2 + df_test_train['Acc_Z'] ** 2)\n",
    "\n",
    "delta_mag = df_train_test['magnitude'] - df_test_train['magnitude']\n",
    "# rename the column\n",
    "delta_mag = delta_mag.rename('delta_mag')\n",
    "print(delta_mag)\n"
   ],
   "metadata": {
    "collapsed": false,
    "ExecuteTime": {
     "start_time": "2024-01-29T13:05:24.387396Z",
     "end_time": "2024-01-29T13:05:24.404398Z"
    }
   }
  },
  {
   "cell_type": "code",
   "execution_count": 158,
   "outputs": [
    {
     "name": "stdout",
     "output_type": "stream",
     "text": [
      "bluesense-RWR2\n",
      "bluesense-RWR1\n"
     ]
    }
   ],
   "source": [
    "f1_train_test = get_f1_df(device_train, [device_train])\n",
    "f1_test_train = get_f1_df(device_train, [device_test])\n"
   ],
   "metadata": {
    "collapsed": false,
    "ExecuteTime": {
     "start_time": "2024-01-29T13:05:24.702373Z",
     "end_time": "2024-01-29T13:05:25.981929Z"
    }
   }
  },
  {
   "cell_type": "code",
   "execution_count": 159,
   "outputs": [
    {
     "name": "stdout",
     "output_type": "stream",
     "text": [
      "            Device  F1 Score model_type   cv\n",
      "0   bluesense-RWR2  0.761269     attend  0.0\n",
      "1   bluesense-RWR2  0.851591   deepconv  0.0\n",
      "2   bluesense-RWR2  0.844695    tinyhar  0.0\n",
      "3   bluesense-RWR2  0.908013     attend  1.0\n",
      "4   bluesense-RWR2  0.903954   deepconv  1.0\n",
      "5   bluesense-RWR2  0.907572    tinyhar  1.0\n",
      "6   bluesense-RWR2  0.924842     attend  2.0\n",
      "7   bluesense-RWR2  0.899967   deepconv  2.0\n",
      "8   bluesense-RWR2  0.980389    tinyhar  2.0\n",
      "9   bluesense-RWR2  0.846830     attend  3.0\n",
      "10  bluesense-RWR2  0.840748   deepconv  3.0\n",
      "11  bluesense-RWR2  0.833405    tinyhar  3.0\n",
      "12  bluesense-RWR2  0.984903     attend  4.0\n",
      "13  bluesense-RWR2  0.977630   deepconv  4.0\n",
      "14  bluesense-RWR2  0.969140    tinyhar  4.0\n",
      "15  bluesense-RWR2  0.940496     attend  5.0\n",
      "16  bluesense-RWR2  0.900754   deepconv  5.0\n",
      "17  bluesense-RWR2  0.956749    tinyhar  5.0\n",
      "18  bluesense-RWR2  0.802078     attend  6.0\n",
      "19  bluesense-RWR2  0.842506   deepconv  6.0\n",
      "20  bluesense-RWR2  0.794492    tinyhar  6.0\n",
      "21  bluesense-RWR2  0.995107     attend  7.0\n",
      "22  bluesense-RWR2  0.995401   deepconv  7.0\n",
      "23  bluesense-RWR2  0.995552    tinyhar  7.0\n",
      "            Device  F1 Score model_type   cv\n",
      "0   bluesense-RWR1  0.853863     attend  0.0\n",
      "1   bluesense-RWR1  0.977758   deepconv  0.0\n",
      "2   bluesense-RWR1  0.935424    tinyhar  0.0\n",
      "3   bluesense-RWR1  0.908125     attend  1.0\n",
      "4   bluesense-RWR1  0.903849   deepconv  1.0\n",
      "5   bluesense-RWR1  0.908492    tinyhar  1.0\n",
      "6   bluesense-RWR1  0.977051     attend  2.0\n",
      "7   bluesense-RWR1  0.937912   deepconv  2.0\n",
      "8   bluesense-RWR1  0.973709    tinyhar  2.0\n",
      "9   bluesense-RWR1  0.832633     attend  3.0\n",
      "10  bluesense-RWR1  0.828013   deepconv  3.0\n",
      "11  bluesense-RWR1  0.831844    tinyhar  3.0\n",
      "12  bluesense-RWR1  0.968481     attend  4.0\n",
      "13  bluesense-RWR1  0.938759   deepconv  4.0\n",
      "14  bluesense-RWR1  0.949905    tinyhar  4.0\n",
      "15  bluesense-RWR1  0.978262     attend  5.0\n",
      "16  bluesense-RWR1  0.953680   deepconv  5.0\n",
      "17  bluesense-RWR1  0.991948    tinyhar  5.0\n",
      "18  bluesense-RWR1  0.798992     attend  6.0\n",
      "19  bluesense-RWR1  0.812123   deepconv  6.0\n",
      "20  bluesense-RWR1  0.798106    tinyhar  6.0\n",
      "21  bluesense-RWR1  0.990324     attend  7.0\n",
      "22  bluesense-RWR1  0.988875   deepconv  7.0\n",
      "23  bluesense-RWR1  0.995186    tinyhar  7.0\n",
      "    cv  F1 Score\n",
      "0  0.0  0.819185\n",
      "1  1.0  0.906513\n",
      "2  2.0  0.935066\n",
      "3  3.0  0.840328\n",
      "4  4.0  0.977224\n",
      "5  5.0  0.932666\n",
      "6  6.0  0.813025\n",
      "7  7.0  0.995353\n",
      "    cv  F1 Score\n",
      "0  0.0  0.922348\n",
      "1  1.0  0.906822\n",
      "2  2.0  0.962890\n",
      "3  3.0  0.830830\n",
      "4  4.0  0.952382\n",
      "5  5.0  0.974630\n",
      "6  6.0  0.803074\n",
      "7  7.0  0.991462\n",
      "   F1 Score\n",
      "0  0.819185\n",
      "1  0.906513\n",
      "2  0.935066\n",
      "3  0.840328\n",
      "4  0.977224\n",
      "5  0.932666\n",
      "6  0.813025\n",
      "7  0.995353\n",
      "   F1 Score\n",
      "0  0.922348\n",
      "1  0.906822\n",
      "2  0.962890\n",
      "3  0.830830\n",
      "4  0.952382\n",
      "5  0.974630\n",
      "6  0.803074\n",
      "7  0.991462\n"
     ]
    }
   ],
   "source": [
    "# mean all values with same value in column cv\n",
    "print(f1_train_test)\n",
    "print(f1_test_train)\n",
    "mean_f1_train_test = f1_train_test.groupby('cv')['F1 Score'].mean().reset_index()\n",
    "mean_f1_test_train = f1_test_train.groupby('cv')['F1 Score'].mean().reset_index()\n",
    "print(mean_f1_train_test)\n",
    "print(mean_f1_test_train)\n",
    "# drop the cv column\n",
    "mean_f1_train_test = mean_f1_train_test.drop(columns=['cv'])\n",
    "mean_f1_test_train = mean_f1_test_train.drop(columns=['cv'])\n",
    "print(mean_f1_train_test)\n",
    "print(mean_f1_test_train)\n",
    "delta_mean_f1 = mean_f1_train_test - mean_f1_test_train"
   ],
   "metadata": {
    "collapsed": false,
    "ExecuteTime": {
     "start_time": "2024-01-29T13:05:26.000070Z",
     "end_time": "2024-01-29T13:05:26.046631Z"
    }
   }
  },
  {
   "cell_type": "code",
   "execution_count": 160,
   "outputs": [
    {
     "name": "stdout",
     "output_type": "stream",
     "text": [
      "8\n",
      "8\n"
     ]
    }
   ],
   "source": [
    "# print size of delta_mag and mean_f1\n",
    "print(delta_mag.size)\n",
    "print(delta_mean_f1.size)\n"
   ],
   "metadata": {
    "collapsed": false,
    "ExecuteTime": {
     "start_time": "2024-01-29T13:05:26.031631Z",
     "end_time": "2024-01-29T13:05:26.047630Z"
    }
   }
  },
  {
   "cell_type": "code",
   "execution_count": 161,
   "outputs": [
    {
     "data": {
      "text/plain": "Text(0.5, 1.0, 'delta_mmd vs delta_mean_f1 for bluesense-RWR2 and bluesense-RWR1')"
     },
     "execution_count": 161,
     "metadata": {},
     "output_type": "execute_result"
    },
    {
     "data": {
      "text/plain": "<Figure size 640x480 with 1 Axes>",
      "image/png": "[encoded data removed]"
     },
     "metadata": {},
     "output_type": "display_data"
    }
   ],
   "source": [
    "# plot a graph between delta_mag and mean_f1\n",
    "plt.scatter(delta_mag, delta_mean_f1, label='train-test')\n",
    "plt.xlabel('delta_mmd')\n",
    "plt.ylabel('delta_mean_f1')\n",
    "plt.title('delta_mmd vs delta_mean_f1 for ' + device_train + ' and ' + device_test)\n"
   ],
   "metadata": {
    "collapsed": false,
    "ExecuteTime": {
     "start_time": "2024-01-29T13:05:26.425990Z",
     "end_time": "2024-01-29T13:05:26.685987Z"
    }
   }
  },
  {
   "cell_type": "code",
   "execution_count": null,
   "outputs": [],
   "source": [],
   "metadata": {
    "collapsed": false
   }
  }
 ],
 "metadata": {
  "kernelspec": {
   "display_name": "Python 3",
   "language": "python",
   "name": "python3"
  },
  "language_info": {
   "codemirror_mode": {
    "name": "ipython",
    "version": 2
   },
   "file_extension": ".py",
   "mimetype": "text/x-python",
   "name": "python",
   "nbconvert_exporter": "python",
   "pygments_lexer": "ipython2",
   "version": "2.7.6"
  }
 },
 "nbformat": 4,
 "nbformat_minor": 0
}
