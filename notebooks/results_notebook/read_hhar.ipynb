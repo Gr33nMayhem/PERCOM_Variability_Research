{
 "cells": [
  {
   "cell_type": "code",
   "execution_count": 1,
   "metadata": {
    "collapsed": true,
    "ExecuteTime": {
     "start_time": "2024-07-09T15:21:37.830777Z",
     "end_time": "2024-07-09T15:21:39.639959Z"
    }
   },
   "outputs": [],
   "source": [
    "import matplotlib.pyplot as plt\n",
    "import numpy as np\n",
    "import pandas as pd\n",
    "import os\n",
    "from sklearn.metrics import confusion_matrix\n",
    "import seaborn as sns"
   ]
  },
  {
   "cell_type": "code",
   "execution_count": 2,
   "outputs": [
    {
     "data": {
      "text/plain": "           Index   Arrival_Time        Creation_Time         x         y  \\\n0              0  1424696633908  1424696631913248572 -5.958191  0.688065   \n1              1  1424696633909  1424696631918283972 -5.952240  0.670212   \n2              2  1424696633918  1424696631923288855 -5.995087  0.653549   \n3              3  1424696633919  1424696631928385290 -5.942718  0.676163   \n4              4  1424696633929  1424696631933420691 -5.991516  0.641647   \n...          ...            ...                  ...       ...       ...   \n13062470  129048  1424778553315       92263781761000  1.379043  0.153227   \n13062471  129049  1424778553346       92263812248000  1.379043  0.153227   \n13062472  129050  1424778553366       92263832267000  1.532270  0.153227   \n13062473  129051  1424778553386       92263852409000  1.532270  0.000000   \n13062474  129052  1424778553395       92263861839000  1.379043  0.000000   \n\n                 z User       Model        Device     gt  \n0         8.135345    a      nexus4      nexus4_1  stand  \n1         8.136536    a      nexus4      nexus4_1  stand  \n2         8.204376    a      nexus4      nexus4_1  stand  \n3         8.128204    a      nexus4      nexus4_1  stand  \n4         8.135345    a      nexus4      nexus4_1  stand  \n...            ...  ...         ...           ...    ...  \n13062470  9.959755    i  samsungold  samsungold_2   bike  \n13062471  9.806528    i  samsungold  samsungold_2   bike  \n13062472  9.806528    i  samsungold  samsungold_2   bike  \n13062473  9.959755    i  samsungold  samsungold_2   bike  \n13062474  9.959755    i  samsungold  samsungold_2   bike  \n\n[13062475 rows x 10 columns]",
      "text/html": "<div>\n<style scoped>\n    .dataframe tbody tr th:only-of-type {\n        vertical-align: middle;\n    }\n\n    .dataframe tbody tr th {\n        vertical-align: top;\n    }\n\n    .dataframe thead th {\n        text-align: right;\n    }\n</style>\n<table border=\"1\" class=\"dataframe\">\n  <thead>\n    <tr style=\"text-align: right;\">\n      <th></th>\n      <th>Index</th>\n      <th>Arrival_Time</th>\n      <th>Creation_Time</th>\n      <th>x</th>\n      <th>y</th>\n      <th>z</th>\n      <th>User</th>\n      <th>Model</th>\n      <th>Device</th>\n      <th>gt</th>\n    </tr>\n  </thead>\n  <tbody>\n    <tr>\n      <th>0</th>\n      <td>0</td>\n      <td>1424696633908</td>\n      <td>1424696631913248572</td>\n      <td>-5.958191</td>\n      <td>0.688065</td>\n      <td>8.135345</td>\n      <td>a</td>\n      <td>nexus4</td>\n      <td>nexus4_1</td>\n      <td>stand</td>\n    </tr>\n    <tr>\n      <th>1</th>\n      <td>1</td>\n      <td>1424696633909</td>\n      <td>1424696631918283972</td>\n      <td>-5.952240</td>\n      <td>0.670212</td>\n      <td>8.136536</td>\n      <td>a</td>\n      <td>nexus4</td>\n      <td>nexus4_1</td>\n      <td>stand</td>\n    </tr>\n    <tr>\n      <th>2</th>\n      <td>2</td>\n      <td>1424696633918</td>\n      <td>1424696631923288855</td>\n      <td>-5.995087</td>\n      <td>0.653549</td>\n      <td>8.204376</td>\n      <td>a</td>\n      <td>nexus4</td>\n      <td>nexus4_1</td>\n      <td>stand</td>\n    </tr>\n    <tr>\n      <th>3</th>\n      <td>3</td>\n      <td>1424696633919</td>\n      <td>1424696631928385290</td>\n      <td>-5.942718</td>\n      <td>0.676163</td>\n      <td>8.128204</td>\n      <td>a</td>\n      <td>nexus4</td>\n      <td>nexus4_1</td>\n      <td>stand</td>\n    </tr>\n    <tr>\n      <th>4</th>\n      <td>4</td>\n      <td>1424696633929</td>\n      <td>1424696631933420691</td>\n      <td>-5.991516</td>\n      <td>0.641647</td>\n      <td>8.135345</td>\n      <td>a</td>\n      <td>nexus4</td>\n      <td>nexus4_1</td>\n      <td>stand</td>\n    </tr>\n    <tr>\n      <th>...</th>\n      <td>...</td>\n      <td>...</td>\n      <td>...</td>\n      <td>...</td>\n      <td>...</td>\n      <td>...</td>\n      <td>...</td>\n      <td>...</td>\n      <td>...</td>\n      <td>...</td>\n    </tr>\n    <tr>\n      <th>13062470</th>\n      <td>129048</td>\n      <td>1424778553315</td>\n      <td>92263781761000</td>\n      <td>1.379043</td>\n      <td>0.153227</td>\n      <td>9.959755</td>\n      <td>i</td>\n      <td>samsungold</td>\n      <td>samsungold_2</td>\n      <td>bike</td>\n    </tr>\n    <tr>\n      <th>13062471</th>\n      <td>129049</td>\n      <td>1424778553346</td>\n      <td>92263812248000</td>\n      <td>1.379043</td>\n      <td>0.153227</td>\n      <td>9.806528</td>\n      <td>i</td>\n      <td>samsungold</td>\n      <td>samsungold_2</td>\n      <td>bike</td>\n    </tr>\n    <tr>\n      <th>13062472</th>\n      <td>129050</td>\n      <td>1424778553366</td>\n      <td>92263832267000</td>\n      <td>1.532270</td>\n      <td>0.153227</td>\n      <td>9.806528</td>\n      <td>i</td>\n      <td>samsungold</td>\n      <td>samsungold_2</td>\n      <td>bike</td>\n    </tr>\n    <tr>\n      <th>13062473</th>\n      <td>129051</td>\n      <td>1424778553386</td>\n      <td>92263852409000</td>\n      <td>1.532270</td>\n      <td>0.000000</td>\n      <td>9.959755</td>\n      <td>i</td>\n      <td>samsungold</td>\n      <td>samsungold_2</td>\n      <td>bike</td>\n    </tr>\n    <tr>\n      <th>13062474</th>\n      <td>129052</td>\n      <td>1424778553395</td>\n      <td>92263861839000</td>\n      <td>1.379043</td>\n      <td>0.000000</td>\n      <td>9.959755</td>\n      <td>i</td>\n      <td>samsungold</td>\n      <td>samsungold_2</td>\n      <td>bike</td>\n    </tr>\n  </tbody>\n</table>\n<p>13062475 rows × 10 columns</p>\n</div>"
     },
     "execution_count": 2,
     "metadata": {},
     "output_type": "execute_result"
    }
   ],
   "source": [
    "root_path = '../../data/hhar'\n",
    "\n",
    "# read csv Phones_accelerometer.csv\n",
    "df = pd.read_csv(os.path.join(root_path, 'Phones_accelerometer.csv'))\n",
    "df"
   ],
   "metadata": {
    "collapsed": false,
    "ExecuteTime": {
     "start_time": "2024-07-09T15:21:39.640961Z",
     "end_time": "2024-07-09T15:21:52.493230Z"
    }
   }
  },
  {
   "cell_type": "code",
   "execution_count": 3,
   "outputs": [
    {
     "data": {
      "text/plain": "array(['nexus4_1', 'nexus4_2', 's3_1', 's3_2', 's3mini_1', 's3mini_2',\n       'samsungold_1', 'samsungold_2'], dtype=object)"
     },
     "execution_count": 3,
     "metadata": {},
     "output_type": "execute_result"
    }
   ],
   "source": [
    "# get all the unique values in the column Model\n",
    "models = df['Device'].unique()\n",
    "models"
   ],
   "metadata": {
    "collapsed": false,
    "ExecuteTime": {
     "start_time": "2024-07-09T15:21:52.494231Z",
     "end_time": "2024-07-09T15:21:53.255607Z"
    }
   }
  },
  {
   "cell_type": "code",
   "execution_count": 12,
   "outputs": [
    {
     "name": "stdout",
     "output_type": "stream",
     "text": [
      "----------------------------------------------------------------------nexus4-----------------------------------------------------------------------------------------\n",
      "nexus4 has a sampling rate of 196.2155899172657 Hz\n",
      "nexus4 has a sampling rate of 198.5939548000159 Hz\n",
      "nexus4 has a sampling rate of 199.80487056340775 Hz\n",
      "nexus4 has a sampling rate of 198.5939153604649 Hz\n",
      "nexus4 has a sampling rate of 198.59395480001578 Hz\n",
      "nexus4 has a sampling rate of 199.80491048541361 Hz\n",
      "nexus4 has a sampling rate of 197.39758914370793 Hz\n",
      "nexus4 has a sampling rate of 199.80487056341602 Hz\n",
      "---------------------------------------------------------------------------------------------------------------------------------------------------------------\n",
      "----------------------------------------------------------------------s3-----------------------------------------------------------------------------------------\n",
      "s3 has a sampling rate of 150.33072760072162 Hz\n",
      "s3 has a sampling rate of 88.19119851838786 Hz\n",
      "s3 has a sampling rate of 73.80618495829951 Hz\n",
      "s3 has a sampling rate of 98.21253191907284 Hz\n",
      "s3 has a sampling rate of 98.79470460383324 Hz\n",
      "s3 has a sampling rate of 98.88262632256777 Hz\n",
      "s3 has a sampling rate of 98.81422924900626 Hz\n",
      "s3 has a sampling rate of 98.8630746416139 Hz\n",
      "---------------------------------------------------------------------------------------------------------------------------------------------------------------\n",
      "----------------------------------------------------------------------s3mini-----------------------------------------------------------------------------------------\n",
      "s3mini has a sampling rate of 90.0900900900901 Hz\n",
      "s3mini has a sampling rate of 111.54489682097044 Hz\n",
      "s3mini has a sampling rate of 99.06875371507827 Hz\n",
      "s3mini has a sampling rate of 119.24636298592887 Hz\n",
      "s3mini has a sampling rate of 22.55401687040462 Hz\n",
      "s3mini has a sampling rate of 93.0925339787708 Hz\n",
      "s3mini has a sampling rate of 104.36234606553978 Hz\n",
      "s3mini has a sampling rate of 103.36985734961152 Hz\n",
      "---------------------------------------------------------------------------------------------------------------------------------------------------------------\n",
      "----------------------------------------------------------------------samsungold-----------------------------------------------------------------------------------------\n",
      "samsungold has a sampling rate of 32.53937264089548 Hz\n",
      "samsungold has a sampling rate of 49.95004995004995 Hz\n",
      "samsungold has a sampling rate of 33.33555570371358 Hz\n",
      "samsungold has a sampling rate of 49.95254508217195 Hz\n",
      "samsungold has a sampling rate of 50.1027105566411 Hz\n",
      "samsungold has a sampling rate of 49.7983168168888 Hz\n",
      "samsungold has a sampling rate of 16.67583837777435 Hz\n",
      "samsungold has a sampling rate of 49.95254508217745 Hz\n",
      "---------------------------------------------------------------------------------------------------------------------------------------------------------------\n"
     ]
    }
   ],
   "source": [
    "for model in models:\n",
    "    # get all the rows with the model\n",
    "    extracted = df[df['Model'] == model].copy()\n",
    "    # change the Creation_Time as the delta value of the first value.\n",
    "    extracted['Creation_Time'] = pd.to_datetime(extracted['Creation_Time'])\n",
    "    extracted['Creation_Time'] = (extracted['Creation_Time'] - extracted['Creation_Time'].iloc[0]).dt.total_seconds()\n",
    "    # drop the Arrival_time and Model columns\n",
    "    extracted.drop(['Arrival_Time', 'Model'], axis=1, inplace=True)\n",
    "\n",
    "    # use the Creation_Time to get the sampling rate of the devices\n",
    "    print(\"----------------------------------------------------------------------\" + model + \"-----------------------------------------------------------------------------------------\")\n",
    "    sampling_rate = 1 / (extracted['Creation_Time'].iloc[3] - extracted['Creation_Time'].iloc[2])\n",
    "    print(f'{model} has a sampling rate of {sampling_rate} Hz')\n",
    "    sampling_rate = 1 / (extracted['Creation_Time'].iloc[1] - extracted['Creation_Time'].iloc[0])\n",
    "    print(f'{model} has a sampling rate of {sampling_rate} Hz')\n",
    "    sampling_rate = 1 / (extracted['Creation_Time'].iloc[2] - extracted['Creation_Time'].iloc[1])\n",
    "    print(f'{model} has a sampling rate of {sampling_rate} Hz')\n",
    "    sampling_rate = 1 / (extracted['Creation_Time'].iloc[4] - extracted['Creation_Time'].iloc[3])\n",
    "    print(f'{model} has a sampling rate of {sampling_rate} Hz')\n",
    "    sampling_rate = 1 / (extracted['Creation_Time'].iloc[5] - extracted['Creation_Time'].iloc[4])\n",
    "    print(f'{model} has a sampling rate of {sampling_rate} Hz')\n",
    "    sampling_rate = 1 / (extracted['Creation_Time'].iloc[1006] - extracted['Creation_Time'].iloc[1005])\n",
    "    print(f'{model} has a sampling rate of {sampling_rate} Hz')\n",
    "    sampling_rate = 1 / (extracted['Creation_Time'].iloc[1007] - extracted['Creation_Time'].iloc[1006])\n",
    "    print(f'{model} has a sampling rate of {sampling_rate} Hz')\n",
    "    sampling_rate = 1 / (extracted['Creation_Time'].iloc[1008] - extracted['Creation_Time'].iloc[1007])\n",
    "    print(f'{model} has a sampling rate of {sampling_rate} Hz')\n",
    "    print(\"---------------------------------------------------------------------------------------------------------------------------------------------------------------\")\n",
    "    # pick random consecutive 2 samples and calculate the time difference\n",
    "    # print the first 5 rows\n",
    "    # print(extracted.head())\n"
   ],
   "metadata": {
    "collapsed": false,
    "ExecuteTime": {
     "start_time": "2024-06-30T23:14:15.340282Z",
     "end_time": "2024-06-30T23:14:25.853816Z"
    }
   }
  },
  {
   "cell_type": "code",
   "execution_count": 14,
   "outputs": [
    {
     "data": {
      "text/plain": "         Index   Arrival_Time    Creation_Time         x          y         z  \\\n0            0  1424696638740   27920678471000 -0.565032  -9.572019 -0.614113   \n1            1  1424696638740   27920681910000 -0.832584  -9.713276 -0.606930   \n2            2  1424696638740   27920692014000 -1.018134  -9.935339 -0.544082   \n3            3  1424696638741   27920701983000 -1.222838 -10.142437 -0.566229   \n4            4  1424696638741   27920711906000 -1.577180 -10.480618 -0.402824   \n...        ...            ...              ...       ...        ...       ...   \n3540957  55520  1424778496409  205449746189955  4.416595  -8.708023 -1.715271   \n3540958  55521  1424778496409  205449751164320  5.337799  -9.526871 -1.222534   \n3540959  55522  1424778496409  205449756138686  6.580353  -9.748245 -1.291565   \n3540960  55523  1424778496409  205449761143569  7.932404  -9.514969 -1.608154   \n3540961  55525  1424778496409  205449771092299  9.981903  -9.026993 -0.558411   \n\n        User    Model     Device     gt  \n0          a     gear     gear_1  stand  \n1          a     gear     gear_1  stand  \n2          a     gear     gear_1  stand  \n3          a     gear     gear_1  stand  \n4          a     gear     gear_1  stand  \n...      ...      ...        ...    ...  \n3540957    i  lgwatch  lgwatch_2   bike  \n3540958    i  lgwatch  lgwatch_2   bike  \n3540959    i  lgwatch  lgwatch_2   bike  \n3540960    i  lgwatch  lgwatch_2   bike  \n3540961    i  lgwatch  lgwatch_2   bike  \n\n[3540962 rows x 10 columns]",
      "text/html": "<div>\n<style scoped>\n    .dataframe tbody tr th:only-of-type {\n        vertical-align: middle;\n    }\n\n    .dataframe tbody tr th {\n        vertical-align: top;\n    }\n\n    .dataframe thead th {\n        text-align: right;\n    }\n</style>\n<table border=\"1\" class=\"dataframe\">\n  <thead>\n    <tr style=\"text-align: right;\">\n      <th></th>\n      <th>Index</th>\n      <th>Arrival_Time</th>\n      <th>Creation_Time</th>\n      <th>x</th>\n      <th>y</th>\n      <th>z</th>\n      <th>User</th>\n      <th>Model</th>\n      <th>Device</th>\n      <th>gt</th>\n    </tr>\n  </thead>\n  <tbody>\n    <tr>\n      <th>0</th>\n      <td>0</td>\n      <td>1424696638740</td>\n      <td>27920678471000</td>\n      <td>-0.565032</td>\n      <td>-9.572019</td>\n      <td>-0.614113</td>\n      <td>a</td>\n      <td>gear</td>\n      <td>gear_1</td>\n      <td>stand</td>\n    </tr>\n    <tr>\n      <th>1</th>\n      <td>1</td>\n      <td>1424696638740</td>\n      <td>27920681910000</td>\n      <td>-0.832584</td>\n      <td>-9.713276</td>\n      <td>-0.606930</td>\n      <td>a</td>\n      <td>gear</td>\n      <td>gear_1</td>\n      <td>stand</td>\n    </tr>\n    <tr>\n      <th>2</th>\n      <td>2</td>\n      <td>1424696638740</td>\n      <td>27920692014000</td>\n      <td>-1.018134</td>\n      <td>-9.935339</td>\n      <td>-0.544082</td>\n      <td>a</td>\n      <td>gear</td>\n      <td>gear_1</td>\n      <td>stand</td>\n    </tr>\n    <tr>\n      <th>3</th>\n      <td>3</td>\n      <td>1424696638741</td>\n      <td>27920701983000</td>\n      <td>-1.222838</td>\n      <td>-10.142437</td>\n      <td>-0.566229</td>\n      <td>a</td>\n      <td>gear</td>\n      <td>gear_1</td>\n      <td>stand</td>\n    </tr>\n    <tr>\n      <th>4</th>\n      <td>4</td>\n      <td>1424696638741</td>\n      <td>27920711906000</td>\n      <td>-1.577180</td>\n      <td>-10.480618</td>\n      <td>-0.402824</td>\n      <td>a</td>\n      <td>gear</td>\n      <td>gear_1</td>\n      <td>stand</td>\n    </tr>\n    <tr>\n      <th>...</th>\n      <td>...</td>\n      <td>...</td>\n      <td>...</td>\n      <td>...</td>\n      <td>...</td>\n      <td>...</td>\n      <td>...</td>\n      <td>...</td>\n      <td>...</td>\n      <td>...</td>\n    </tr>\n    <tr>\n      <th>3540957</th>\n      <td>55520</td>\n      <td>1424778496409</td>\n      <td>205449746189955</td>\n      <td>4.416595</td>\n      <td>-8.708023</td>\n      <td>-1.715271</td>\n      <td>i</td>\n      <td>lgwatch</td>\n      <td>lgwatch_2</td>\n      <td>bike</td>\n    </tr>\n    <tr>\n      <th>3540958</th>\n      <td>55521</td>\n      <td>1424778496409</td>\n      <td>205449751164320</td>\n      <td>5.337799</td>\n      <td>-9.526871</td>\n      <td>-1.222534</td>\n      <td>i</td>\n      <td>lgwatch</td>\n      <td>lgwatch_2</td>\n      <td>bike</td>\n    </tr>\n    <tr>\n      <th>3540959</th>\n      <td>55522</td>\n      <td>1424778496409</td>\n      <td>205449756138686</td>\n      <td>6.580353</td>\n      <td>-9.748245</td>\n      <td>-1.291565</td>\n      <td>i</td>\n      <td>lgwatch</td>\n      <td>lgwatch_2</td>\n      <td>bike</td>\n    </tr>\n    <tr>\n      <th>3540960</th>\n      <td>55523</td>\n      <td>1424778496409</td>\n      <td>205449761143569</td>\n      <td>7.932404</td>\n      <td>-9.514969</td>\n      <td>-1.608154</td>\n      <td>i</td>\n      <td>lgwatch</td>\n      <td>lgwatch_2</td>\n      <td>bike</td>\n    </tr>\n    <tr>\n      <th>3540961</th>\n      <td>55525</td>\n      <td>1424778496409</td>\n      <td>205449771092299</td>\n      <td>9.981903</td>\n      <td>-9.026993</td>\n      <td>-0.558411</td>\n      <td>i</td>\n      <td>lgwatch</td>\n      <td>lgwatch_2</td>\n      <td>bike</td>\n    </tr>\n  </tbody>\n</table>\n<p>3540962 rows × 10 columns</p>\n</div>"
     },
     "execution_count": 14,
     "metadata": {},
     "output_type": "execute_result"
    }
   ],
   "source": [
    "root_path = '../../data/hhar'\n",
    "\n",
    "# read csv Phones_accelerometer.csv\n",
    "df = pd.read_csv(os.path.join(root_path, 'Watch_accelerometer.csv'))\n",
    "df"
   ],
   "metadata": {
    "collapsed": false,
    "ExecuteTime": {
     "start_time": "2024-06-30T23:26:27.539925Z",
     "end_time": "2024-06-30T23:26:32.012582Z"
    }
   }
  },
  {
   "cell_type": "code",
   "execution_count": 17,
   "outputs": [
    {
     "data": {
      "text/plain": "array(['gear_1', 'gear_2', 'lgwatch_1', 'lgwatch_2'], dtype=object)"
     },
     "execution_count": 17,
     "metadata": {},
     "output_type": "execute_result"
    }
   ],
   "source": [
    "# get all the unique values in the column Model\n",
    "models = df['Device'].unique()\n",
    "models"
   ],
   "metadata": {
    "collapsed": false,
    "ExecuteTime": {
     "start_time": "2024-06-30T23:27:36.966239Z",
     "end_time": "2024-06-30T23:27:37.132853Z"
    }
   }
  },
  {
   "cell_type": "code",
   "execution_count": 18,
   "outputs": [
    {
     "name": "stdout",
     "output_type": "stream",
     "text": [
      "----------------------------------------------------------------------gear_1-----------------------------------------------------------------------------------------\n",
      "gear_1 has a sampling rate of 100.31096398836391 Hz\n",
      "gear_1 has a sampling rate of 290.7822041291073 Hz\n",
      "gear_1 has a sampling rate of 98.97070467141728 Hz\n",
      "gear_1 has a sampling rate of 100.77597500755822 Hz\n",
      "gear_1 has a sampling rate of 102.36462278636503 Hz\n",
      "gear_1 has a sampling rate of 99.6909580300922 Hz\n",
      "gear_1 has a sampling rate of 101.33765707337771 Hz\n",
      "gear_1 has a sampling rate of 98.3961428711959 Hz\n",
      "---------------------------------------------------------------------------------------------------------------------------------------------------------------\n",
      "----------------------------------------------------------------------gear_2-----------------------------------------------------------------------------------------\n",
      "gear_2 has a sampling rate of 9.53725250829741 Hz\n",
      "gear_2 has a sampling rate of 103.11404413281089 Hz\n",
      "gear_2 has a sampling rate of 102.81719103434094 Hz\n",
      "gear_2 has a sampling rate of -116.74060238150822 Hz\n",
      "gear_2 has a sampling rate of 53.593440162924075 Hz\n",
      "gear_2 has a sampling rate of 98.95111814764861 Hz\n",
      "gear_2 has a sampling rate of 102.21813349687669 Hz\n",
      "gear_2 has a sampling rate of 98.98050084132582 Hz\n",
      "---------------------------------------------------------------------------------------------------------------------------------------------------------------\n",
      "----------------------------------------------------------------------lgwatch_1-----------------------------------------------------------------------------------------\n",
      "lgwatch_1 has a sampling rate of 202.2716317879578 Hz\n",
      "lgwatch_1 has a sampling rate of 202.2715908741531 Hz\n",
      "lgwatch_1 has a sampling rate of 202.2715908741531 Hz\n",
      "lgwatch_1 has a sampling rate of 202.27159087415313 Hz\n",
      "lgwatch_1 has a sampling rate of 202.27159087415305 Hz\n",
      "lgwatch_1 has a sampling rate of 202.2716317879646 Hz\n",
      "lgwatch_1 has a sampling rate of 199.80487056341602 Hz\n",
      "lgwatch_1 has a sampling rate of 204.7999790284804 Hz\n",
      "---------------------------------------------------------------------------------------------------------------------------------------------------------------\n",
      "----------------------------------------------------------------------lgwatch_2-----------------------------------------------------------------------------------------\n",
      "lgwatch_2 has a sampling rate of 199.80487056340777 Hz\n",
      "lgwatch_2 has a sampling rate of 201.03068431850096 Hz\n",
      "lgwatch_2 has a sampling rate of 199.80487056340777 Hz\n",
      "lgwatch_2 has a sampling rate of 199.80487056340777 Hz\n",
      "lgwatch_2 has a sampling rate of 201.0306843185009 Hz\n",
      "lgwatch_2 has a sampling rate of 199.8048705633451 Hz\n",
      "lgwatch_2 has a sampling rate of 199.80487056348693 Hz\n",
      "lgwatch_2 has a sampling rate of 201.03068431840077 Hz\n",
      "---------------------------------------------------------------------------------------------------------------------------------------------------------------\n"
     ]
    }
   ],
   "source": [
    "for model in models:\n",
    "    # get all the rows with the model\n",
    "    extracted = df[df['Device'] == model].copy()\n",
    "    # change the Creation_Time as the delta value of the first value.\n",
    "    extracted['Creation_Time'] = pd.to_datetime(extracted['Creation_Time'])\n",
    "    extracted['Creation_Time'] = (extracted['Creation_Time'] - extracted['Creation_Time'].iloc[0]).dt.total_seconds()\n",
    "    # drop the Arrival_time and Model columns\n",
    "    extracted.drop(['Arrival_Time', 'Model'], axis=1, inplace=True)\n",
    "\n",
    "    # use the Creation_Time to get the sampling rate of the devices\n",
    "    print(\"----------------------------------------------------------------------\" + model + \"-----------------------------------------------------------------------------------------\")\n",
    "    sampling_rate = 1 / (extracted['Creation_Time'].iloc[3] - extracted['Creation_Time'].iloc[2])\n",
    "    print(f'{model} has a sampling rate of {sampling_rate} Hz')\n",
    "    sampling_rate = 1 / (extracted['Creation_Time'].iloc[1] - extracted['Creation_Time'].iloc[0])\n",
    "    print(f'{model} has a sampling rate of {sampling_rate} Hz')\n",
    "    sampling_rate = 1 / (extracted['Creation_Time'].iloc[2] - extracted['Creation_Time'].iloc[1])\n",
    "    print(f'{model} has a sampling rate of {sampling_rate} Hz')\n",
    "    sampling_rate = 1 / (extracted['Creation_Time'].iloc[4] - extracted['Creation_Time'].iloc[3])\n",
    "    print(f'{model} has a sampling rate of {sampling_rate} Hz')\n",
    "    sampling_rate = 1 / (extracted['Creation_Time'].iloc[5] - extracted['Creation_Time'].iloc[4])\n",
    "    print(f'{model} has a sampling rate of {sampling_rate} Hz')\n",
    "    sampling_rate = 1 / (extracted['Creation_Time'].iloc[1006] - extracted['Creation_Time'].iloc[1005])\n",
    "    print(f'{model} has a sampling rate of {sampling_rate} Hz')\n",
    "    sampling_rate = 1 / (extracted['Creation_Time'].iloc[1007] - extracted['Creation_Time'].iloc[1006])\n",
    "    print(f'{model} has a sampling rate of {sampling_rate} Hz')\n",
    "    sampling_rate = 1 / (extracted['Creation_Time'].iloc[1008] - extracted['Creation_Time'].iloc[1007])\n",
    "    print(f'{model} has a sampling rate of {sampling_rate} Hz')\n",
    "    print(\"---------------------------------------------------------------------------------------------------------------------------------------------------------------\")\n",
    "    # pick random consecutive 2 samples and calculate the time difference\n",
    "    # print the first 5 rows\n",
    "    # print(extracted.head())\n"
   ],
   "metadata": {
    "collapsed": false,
    "ExecuteTime": {
     "start_time": "2024-06-30T23:27:37.682564Z",
     "end_time": "2024-06-30T23:27:40.568529Z"
    }
   }
  },
  {
   "cell_type": "code",
   "execution_count": 2,
   "outputs": [
    {
     "data": {
      "text/plain": "'\\nSampling rates for all the devices are approximately:\\n\\n'"
     },
     "execution_count": 1,
     "metadata": {},
     "output_type": "execute_result"
    },
    {
     "data": {
      "text/plain": "'\\nSampling rates for all the devices are approximately:\\n    Gear watch:\\n\\n'"
     },
     "execution_count": 2,
     "metadata": {},
     "output_type": "execute_result"
    }
   ],
   "source": [
    "'''\n",
    "Sampling rates for all the devices are approximately:\n",
    "    Gear watch:\n",
    "        100Hz\n",
    "    lgwatch:\n",
    "        200Hz\n",
    "    nexus4:\n",
    "        200Hz\n",
    "    s3mini:\n",
    "        100Hz\n",
    "    s3:\n",
    "        100Hz\n",
    "    samsungold:\n",
    "        50Hz\n",
    "\n",
    "'''"
   ],
   "metadata": {
    "collapsed": false,
    "ExecuteTime": {
     "start_time": "2024-07-01T11:19:33.946817Z",
     "end_time": "2024-07-01T11:19:33.959600Z"
    }
   }
  },
  {
   "cell_type": "code",
   "execution_count": null,
   "outputs": [],
   "source": [],
   "metadata": {
    "collapsed": false
   }
  }
 ],
 "metadata": {
  "kernelspec": {
   "display_name": "Python 3",
   "language": "python",
   "name": "python3"
  },
  "language_info": {
   "codemirror_mode": {
    "name": "ipython",
    "version": 2
   },
   "file_extension": ".py",
   "mimetype": "text/x-python",
   "name": "python",
   "nbconvert_exporter": "python",
   "pygments_lexer": "ipython2",
   "version": "2.7.6"
  }
 },
 "nbformat": 4,
 "nbformat_minor": 0
}
