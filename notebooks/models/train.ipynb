{
 "cells": [
  {
   "cell_type": "code",
   "execution_count": null,
   "metadata": {
    "collapsed": true,
    "ExecuteTime": {
     "start_time": "2023-11-16T19:15:16.995469Z",
     "end_time": "2023-11-16T19:15:20.975745Z"
    }
   },
   "outputs": [],
   "source": [
    "from experiment import Exp\n",
    "import yaml\n",
    "import os\n",
    "import torch\n",
    "from ptflops import get_model_complexity_info\n",
    "import sys\n",
    "\n",
    "sys.path.append(\"../../\")"
   ]
  },
  {
   "cell_type": "code",
   "execution_count": null,
   "outputs": [],
   "source": [
    "class dotdict(dict):\n",
    "    \"\"\"dot.notation access to dictionary attributes\"\"\"\n",
    "    __getattr__ = dict.get\n",
    "    __setattr__ = dict.__setitem__\n",
    "    __delattr__ = dict.__delitem__"
   ],
   "metadata": {
    "collapsed": false,
    "ExecuteTime": {
     "start_time": "2023-11-16T19:15:20.979242Z",
     "end_time": "2023-11-16T19:15:20.982274Z"
    }
   }
  },
  {
   "cell_type": "code",
   "execution_count": null,
   "outputs": [],
   "source": [
    "args = dotdict()\n",
    "# TODO change the path as relative path\n",
    "args.to_save_path = r\"../../data/Run_logs\"\n",
    "args.freq_save_path = r\"../../data/Freq_data\"\n",
    "args.window_save_path = r\"../../data/Sliding_window\"\n",
    "args.root_path = r\"../..\"\n",
    "\n",
    "args.drop_transition = False\n",
    "args.datanorm_type = \"standardization\"  # None ,\"standardization\", \"minmax\"\n",
    "args.filter_scaling_factor = 1\n",
    "args.batch_size = 256\n",
    "args.shuffle = True\n",
    "args.drop_last = False\n",
    "args.train_vali_quote = 0.90\n",
    "# training setting\n",
    "args.train_epochs = 150\n",
    "args.learning_rate = 0.001\n",
    "args.learning_rate_patience = 7\n",
    "args.learning_rate_factor = 0.1\n",
    "args.early_stop_patience = 15\n",
    "\n",
    "args.use_gpu = True if torch.cuda.is_available() else False\n",
    "args.gpu = 0\n",
    "args.use_multi_gpu = False\n",
    "\n",
    "args.optimizer = \"Adam\"\n",
    "args.criterion = \"CrossEntropy\"\n",
    "args.seed = 1\n",
    "args.data_name = 'harvar'\n",
    "args.wavelet_filtering = False\n",
    "args.wavelet_filtering_regularization = False\n",
    "args.wavelet_filtering_finetuning = False\n",
    "args.wavelet_filtering_finetuning_percent = 0.5\n",
    "args.wavelet_filtering_learnable = False\n",
    "args.wavelet_filtering_layernorm = False\n",
    "args.regulatization_tradeoff = 0\n",
    "args.number_wavelet_filtering = 12\n",
    "args.difference = False\n",
    "args.filtering = False\n",
    "args.magnitude = False\n",
    "args.weighted_sampler = True\n",
    "args.pos_select = None\n",
    "args.sensor_select = None\n",
    "args.representation_type = \"time\"\n",
    "args.exp_mode = \"LOCV\"\n",
    "\n",
    "config_file = open('../../configs/data.yaml', mode='r')\n",
    "data_config = yaml.load(config_file, Loader=yaml.FullLoader)\n",
    "config = data_config[args.data_name]\n",
    "\n",
    "args.root_path = os.path.join(args.root_path, config[\"filename\"])\n",
    "args.sampling_freq = config[\"sampling_freq\"]\n",
    "args.num_classes = config[\"num_classes\"]\n",
    "window_seconds = config[\"window_seconds\"]\n",
    "args.windowsize = int(window_seconds * args.sampling_freq)\n",
    "args.input_length = args.windowsize\n",
    "# input information\n",
    "args.c_in = config[\"num_channels\"]\n",
    "args.devices_to_load = ['bluesense-RWR2',\n",
    "                        'bluesense-RWR1']\n",
    "args.train_variant = 0\n",
    "args.test_variant = 1\n",
    "args.variation_count = 2\n",
    "\n",
    "if args.difference:\n",
    "    args.c_in = args.c_in * 2\n",
    "\n",
    "if args.wavelet_filtering:\n",
    "\n",
    "    if args.windowsize % 2 == 1:\n",
    "        N_ds = int(torch.log2(torch.tensor(args.windowsize - 1)).floor()) - 2\n",
    "    else:\n",
    "        N_ds = int(torch.log2(torch.tensor(args.windowsize)).floor()) - 2\n",
    "\n",
    "    args.f_in = args.number_wavelet_filtering * N_ds + 1\n",
    "else:\n",
    "    args.f_in = 1\n"
   ],
   "metadata": {
    "collapsed": false,
    "ExecuteTime": {
     "start_time": "2023-11-16T19:15:21.019417Z",
     "end_time": "2023-11-16T19:15:21.022816Z"
    }
   }
  },
  {
   "cell_type": "code",
   "execution_count": null,
   "outputs": [],
   "source": [
    "args.model_type = \"tinyhar\"  #\"deepconvlstm\"#\"sahar\" #\"deepconvlstm\"\n",
    "\n",
    "args.cross_channel_interaction_type = \"attn\"\n",
    "args.cross_channel_aggregation_type = \"FC\"\n",
    "args.temporal_info_interaction_type = \"lstm\"\n",
    "args.temporal_info_aggregation_type = \"tnaive\"\n",
    "exp = Exp(args)\n",
    "macs, params = get_model_complexity_info(exp.model, (1, args.input_length, args.c_in), as_strings=False,\n",
    "                                         print_per_layer_stat=True, verbose=False)\n",
    "print('{:<30}  {:<8}'.format('Computational complexity: ', macs))\n",
    "print('{:<30}  {:<8}'.format('Number of parameters: ', params))\n",
    "exp.train()"
   ],
   "metadata": {
    "collapsed": false,
    "ExecuteTime": {
     "start_time": "2023-11-16T19:01:03.036179Z",
     "end_time": "2023-11-16T19:03:17.030191Z"
    }
   }
  },
  {
   "cell_type": "code",
   "execution_count": null,
   "outputs": [],
   "source": [
    "args.model_type = \"deepconvlstm\"\n",
    "\n",
    "exp = Exp(args)\n",
    "macs, params = get_model_complexity_info(exp.model, (1, args.input_length, args.c_in), as_strings=False,\n",
    "                                         print_per_layer_stat=True, verbose=False)\n",
    "print('{:<30}  {:<8}'.format('Computational complexity: ', macs))\n",
    "print('{:<30}  {:<8}'.format('Number of parameters: ', params))\n",
    "\n",
    "exp.train()"
   ],
   "metadata": {
    "collapsed": false
   }
  }
 ],
 "metadata": {
  "kernelspec": {
   "display_name": "Python 3",
   "language": "python",
   "name": "python3"
  },
  "language_info": {
   "codemirror_mode": {
    "name": "ipython",
    "version": 2
   },
   "file_extension": ".py",
   "mimetype": "text/x-python",
   "name": "python",
   "nbconvert_exporter": "python",
   "pygments_lexer": "ipython2",
   "version": "2.7.6"
  }
 },
 "nbformat": 4,
 "nbformat_minor": 0
}
